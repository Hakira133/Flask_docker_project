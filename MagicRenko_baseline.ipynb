{
  "nbformat": 4,
  "nbformat_minor": 0,
  "metadata": {
    "colab": {
      "name": "MagicRenko baseline.ipynb",
      "provenance": [],
      "collapsed_sections": [],
      "toc_visible": true,
      "include_colab_link": true
    },
    "kernelspec": {
      "name": "python3",
      "display_name": "Python 3"
    },
    "language_info": {
      "name": "python"
    }
  },
  "cells": [
    {
      "cell_type": "markdown",
      "metadata": {
        "id": "view-in-github",
        "colab_type": "text"
      },
      "source": [
        "<a href=\"https://colab.research.google.com/github/Hakira133/Flask_docker_project/blob/master/MagicRenko_baseline.ipynb\" target=\"_parent\"><img src=\"https://colab.research.google.com/assets/colab-badge.svg\" alt=\"Open In Colab\"/></a>"
      ]
    },
    {
      "cell_type": "code",
      "execution_count": null,
      "metadata": {
        "colab": {
          "base_uri": "https://localhost:8080/"
        },
        "id": "MhtMFS17CPTy",
        "outputId": "3cf02d85-84e5-4cc3-a302-8000581afde2"
      },
      "outputs": [
        {
          "output_type": "stream",
          "name": "stdout",
          "text": [
            "Looking in indexes: https://pypi.org/simple, https://us-python.pkg.dev/colab-wheels/public/simple/\n",
            "Collecting yfinance\n",
            "  Downloading yfinance-0.1.70-py2.py3-none-any.whl (26 kB)\n",
            "Collecting lxml>=4.5.1\n",
            "  Downloading lxml-4.8.0-cp37-cp37m-manylinux_2_17_x86_64.manylinux2014_x86_64.manylinux_2_24_x86_64.whl (6.4 MB)\n",
            "\u001b[K     |████████████████████████████████| 6.4 MB 7.6 MB/s \n",
            "\u001b[?25hRequirement already satisfied: multitasking>=0.0.7 in /usr/local/lib/python3.7/dist-packages (from yfinance) (0.0.10)\n",
            "Requirement already satisfied: pandas>=0.24.0 in /usr/local/lib/python3.7/dist-packages (from yfinance) (1.3.5)\n",
            "Collecting requests>=2.26\n",
            "  Downloading requests-2.27.1-py2.py3-none-any.whl (63 kB)\n",
            "\u001b[K     |████████████████████████████████| 63 kB 1.6 MB/s \n",
            "\u001b[?25hRequirement already satisfied: numpy>=1.15 in /usr/local/lib/python3.7/dist-packages (from yfinance) (1.21.6)\n",
            "Requirement already satisfied: pytz>=2017.3 in /usr/local/lib/python3.7/dist-packages (from pandas>=0.24.0->yfinance) (2022.1)\n",
            "Requirement already satisfied: python-dateutil>=2.7.3 in /usr/local/lib/python3.7/dist-packages (from pandas>=0.24.0->yfinance) (2.8.2)\n",
            "Requirement already satisfied: six>=1.5 in /usr/local/lib/python3.7/dist-packages (from python-dateutil>=2.7.3->pandas>=0.24.0->yfinance) (1.15.0)\n",
            "Requirement already satisfied: certifi>=2017.4.17 in /usr/local/lib/python3.7/dist-packages (from requests>=2.26->yfinance) (2022.5.18.1)\n",
            "Requirement already satisfied: idna<4,>=2.5 in /usr/local/lib/python3.7/dist-packages (from requests>=2.26->yfinance) (2.10)\n",
            "Requirement already satisfied: urllib3<1.27,>=1.21.1 in /usr/local/lib/python3.7/dist-packages (from requests>=2.26->yfinance) (1.24.3)\n",
            "Requirement already satisfied: charset-normalizer~=2.0.0 in /usr/local/lib/python3.7/dist-packages (from requests>=2.26->yfinance) (2.0.12)\n",
            "Installing collected packages: requests, lxml, yfinance\n",
            "  Attempting uninstall: requests\n",
            "    Found existing installation: requests 2.23.0\n",
            "    Uninstalling requests-2.23.0:\n",
            "      Successfully uninstalled requests-2.23.0\n",
            "  Attempting uninstall: lxml\n",
            "    Found existing installation: lxml 4.2.6\n",
            "    Uninstalling lxml-4.2.6:\n",
            "      Successfully uninstalled lxml-4.2.6\n",
            "\u001b[31mERROR: pip's dependency resolver does not currently take into account all the packages that are installed. This behaviour is the source of the following dependency conflicts.\n",
            "google-colab 1.0.0 requires requests~=2.23.0, but you have requests 2.27.1 which is incompatible.\n",
            "datascience 0.10.6 requires folium==0.2.1, but you have folium 0.8.3 which is incompatible.\u001b[0m\n",
            "Successfully installed lxml-4.8.0 requests-2.27.1 yfinance-0.1.70\n"
          ]
        }
      ],
      "source": [
        "!pip install yfinance"
      ]
    },
    {
      "cell_type": "markdown",
      "source": [
        "Class Renko\n",
        "вход: pd.DataFrame - данные (тиковые или свечи) обязательные столбец - цены, по которым строим + datetime. Опциональные столбцы - Объемы\n",
        "  функции:\n",
        "\n",
        "  1) строить свечи по истории  \n",
        "     опции:  \n",
        "      a)- с учетом гепов/без учета гепов  \n",
        "      б)+ с учетом объемов/без учета объемов  \n",
        "      в)- с нумбой(быстро)/без нумбы  \n",
        "  2)+ добавлять по 1 точке  \n",
        "  3) рисовать полученные свечи  \n",
        "     опции:   \n",
        "      а)+ с виксами/без виксов  \n",
        "      б)+ с обычными свечами/ без  \n",
        "      в)- интерактивный/ не интерактивный  \n",
        "      г)?! сохранение в файл/ вывод на экран  "
      ],
      "metadata": {
        "id": "LCPV6f2TCWts"
      }
    },
    {
      "cell_type": "code",
      "source": [
        "import numpy as np\n",
        "import pandas as pd\n",
        "import matplotlib.pyplot as plt\n",
        "import matplotlib.patches as patches\n",
        "\n",
        "import datetime\n",
        "\n",
        "import yfinance as yf"
      ],
      "metadata": {
        "id": "I_oinPReCZOD"
      },
      "execution_count": null,
      "outputs": []
    },
    {
      "cell_type": "code",
      "source": [
        "def get_asset(ticker, start_date, end_date):\n",
        "  df = yf.download(ticker, start=start_date, end=end_date, progress=False)\n",
        "  df = pd.DataFrame(df)\n",
        "  print(df.columns)\n",
        "  df['price'] = df['Close']\n",
        "  df['volume'] = df['Volume']\n",
        "  df.dropna(inplace=True)\n",
        "  return df[['price', 'volume']]\n",
        "\n"
      ],
      "metadata": {
        "id": "0DBKs02wCdJL"
      },
      "execution_count": null,
      "outputs": []
    },
    {
      "cell_type": "markdown",
      "source": [
        "# Renko Class"
      ],
      "metadata": {
        "id": "FI4FdoGzCu3z"
      }
    },
    {
      "cell_type": "code",
      "source": [
        "class RenkoBasic:\n",
        "  \"\"\"Creates classic/flex renko bars from ticks or classic candles data\n",
        "    Atrributes:\n",
        "        renko_type: 'classic'/'flex'\n",
        "\n",
        "        params:\n",
        "            classic renko chart: brick_size\n",
        "            flex renko chart: bar_size\n",
        "                              trend_offset (0; bar_size)\n",
        "                              reversal_offset (0; bar_size)\n",
        "\n",
        "        methods:\n",
        "          set_params(**params)\n",
        "          build_history(data: pd.DataFrame)\n",
        "          add_history(data_to_add: pd.DataFrame)\n",
        "          paired_plot_renko(path_to_save: str)\n",
        "          plot_renko(path_to_save: str, wicks_plot: bool = False)\n",
        "\n",
        "  \"\"\"\n",
        "  def __init__(self): \n",
        "    #renko_type - 'classic'/'flex'\n",
        "    self.price_column = 'price'\n",
        "    self.volume_column = 'volume'\n",
        "\n",
        " \n",
        "  def check_data(self, data_columns: list) -> bool:\n",
        "    self.calculate_volume = self.volume_column in data_columns\n",
        "    if self.price_column in data_columns:\n",
        "      return True\n",
        "    return False\n",
        "\n",
        "  def build_history(self, prices):\n",
        "    self.source_data = prices\n",
        "    correct_data = self.check_data(prices.columns.to_list())\n",
        "    assert correct_data, \"\"\"Data does not contain 'price' column\"\"\"\n",
        "\n",
        "    self.source_prices = pd.Series(self.source_data.loc[:,self.price_column])\n",
        "    self.renko_prices = [(float(self.source_prices[0]), float(self.source_prices[0]))] \n",
        "    self.renko_directions = [0]\n",
        "    self.renko_index = [self.source_prices.index[0]]\n",
        "\n",
        "    i = 1\n",
        "    while (i < len(self.source_prices)):\n",
        "        goto_next_price = False\n",
        "        last_price = self.source_prices[i]\n",
        "\n",
        "        # check price and append new bar if needed\n",
        "        goto_next_price = self._renko_rule(last_price, self.source_prices.index[i])\n",
        "\n",
        "        # if there is no new bar, take next price\n",
        "        if goto_next_price:\n",
        "          i += 1\n",
        "\n",
        "    self.renko_bars = pd.DataFrame(self.renko_prices[1:], columns = ['open', 'close'], index = self.renko_index[1:])\n",
        "    if self.calculate_volume:\n",
        "      self.__count_renko_volumes()\n",
        "\n",
        "    return len(self.renko_prices)\n",
        "\n",
        "  def __count_renko_volumes(self):\n",
        "    unique_idx = np.unique(self.renko_index)\n",
        "    unique_volumes = self.source_data[self.volume_column].groupby(pd.cut(self.source_data.index, bins=unique_idx)).sum()\n",
        "    repeats = self.renko_bars.groupby(level=0).count().iloc[:,0].values\n",
        "    self.renko_bars.loc[:, 'volume'] = np.repeat(unique_volumes.values, repeats, axis=0)\n",
        "    self.renko_bars['volume'] = self.renko_bars['volume']/np.repeat(repeats, repeats, axis=0)\n",
        "\n",
        "\n",
        "  def add_history(self, data_to_add):\n",
        "    if len(self.renko_prices) == 0:\n",
        "      self.source_data = data_to_add\n",
        "      self.source_prices = self.source_data['price']\n",
        "      self.renko_prices = [(self.source_prices[0],  self.source_prices[0])]\n",
        "      self.renko_directions = [0]\n",
        "      return 1\n",
        "    else:\n",
        "      self.source_data = self.source_data.append(data_to_add)\n",
        "      self.source_prices = self.source_prices.append(data_to_add['price'])\n",
        "      price_to_add = data_to_add['price']\n",
        "\n",
        "      i = 0\n",
        "      while (i < len(price_to_add)):\n",
        "        goto_next_price = False\n",
        "        last_price = price_to_add[i]\n",
        "\n",
        "        # check price and append new bar if needed\n",
        "        goto_next_price = self._renko_rule(last_price, price_to_add.index[i])\n",
        "\n",
        "        # if there is no new bar, take next price\n",
        "        if goto_next_price:\n",
        "          i += 1\n",
        "\n",
        "    self.renko_bars = pd.DataFrame(self.renko_prices[1:], columns = ['open', 'close'], index = self.renko_index[1:])\n",
        "    if self.calculate_volume:\n",
        "      self.__count_renko_volumes()\n",
        "\n",
        "\n",
        "  def paired_plot_renko(self, path_to_save: str, col_up='g', col_down='r', figsize=(18,6)):\n",
        "      ax_price_pos = 0\n",
        "      ax_renko_pos = 1  \n",
        "\n",
        "      fig, ax = plt.subplots(figsize=figsize, nrows=2)\n",
        "      ax[ax_renko_pos].set_title('Renko chart')\n",
        "      ax[ax_price_pos].set_title('Raw data chart')\n",
        "      brick_size = np.max(np.abs(self.renko_bars['close']-self.renko_bars['open']))\n",
        "\n",
        "      # Calculate the limits of axes\n",
        "      ax[ax_renko_pos].set_xlim(0.0, len(self.renko_bars) + 2.0)\n",
        "      ax[ax_renko_pos].set_ylim(np.min(self.renko_bars[['open', 'close']].values) - 1.0 * brick_size, \n",
        "                            np.max(self.renko_bars[['open', 'close']].values) + 1.0 * brick_size)\n",
        "      \n",
        "      # Plot each renko bar\n",
        "      start_point = self.source_data.index[0]\n",
        "      for i in range(len(self.renko_bars)):\n",
        "\n",
        "          # Set basic params for patch rectangle\n",
        "          col = col_up if self.renko_directions[i+1] >= 0 else col_down\n",
        "          open, close = self.renko_bars.loc[:, ['open','close']].values[i]\n",
        "\n",
        "          x = i + 1\n",
        "          y = open if self.renko_directions[i+1] == 1 else close\n",
        "          height = np.abs(open - close)\n",
        "\n",
        "          # Draw bar with params\n",
        "          ax[ax_renko_pos].add_patch(\n",
        "              patches.Rectangle(\n",
        "                  (x, y),   # (x,y)\n",
        "                  1.0,     # width\n",
        "                  height, # height\n",
        "                  facecolor = col\n",
        "              )\n",
        "          )\n",
        "          \n",
        "      ax[ax_price_pos].plot(self.source_data[self.price_column])\n",
        "      leg_up = True\n",
        "      leg_down = True\n",
        "\n",
        "      for i in range(len(self.renko_bars)):\n",
        "        if self.renko_directions[i+1] == 1:\n",
        "            c = 'g'\n",
        "        else:\n",
        "            c = 'r'\n",
        "\n",
        "        if i > 0:\n",
        "          start_point = self.renko_bars.index[i-1]\n",
        "        end_point = self.renko_bars.index[i]\n",
        "\n",
        "        if leg_up and (c == 'g'):\n",
        "          ax[ax_price_pos].axvspan(start_point,end_point, label = 'Renko Upside Bar Built', color = c, alpha = .2, ec=None)\n",
        "          leg_up = False\n",
        "\n",
        "        elif leg_down and (c == 'r'):\n",
        "          ax[ax_price_pos].axvspan(start_point,end_point, label = 'Renko Downside Bar Built', color = c, alpha = .2, ec=None)\n",
        "          leg_down = False\n",
        "\n",
        "        else:\n",
        "          ax[ax_price_pos].axvspan(start_point,end_point, color = c, alpha = .2, ec=None)\n",
        "\n",
        "      ax[ax_price_pos].legend(bbox_to_anchor=(1.01,1), loc=\"upper left\", borderaxespad=0)\n",
        "      plt.tight_layout()\n",
        "      #plt.savefig(path_to_save)\n",
        "      plt.show()\n",
        "\n",
        "  def plot_renko(self, path_to_save: str, wicks_plot: bool = False, col_up='g', col_down='r', figsize=(18,6)):\n",
        "      fig, ax = plt.subplots(figsize=figsize)\n",
        "      ax.set_title('Renko chart')\n",
        "      brick_size = np.max(np.abs(self.renko_bars['close']-self.renko_bars['open']))\n",
        "\n",
        "      # Calculate the limits of axes\n",
        "      ax.set_xlim(0.0, len(self.renko_bars) + 2.0)\n",
        "      ax.set_ylim(np.min(self.renko_bars[['open', 'close']].values) - 1.0 * brick_size, \n",
        "                            np.max(self.renko_bars[['open', 'close']].values) + 1.0 * brick_size)\n",
        "    \n",
        "    # Calculating borders for plotting wicks\n",
        "      if wicks_plot:\n",
        "        unique_idx = np.unique(self.renko_index)\n",
        "        repeats = self.renko_bars.groupby(level=0).count().iloc[:,0].values\n",
        "        max_prices = self.source_data[self.price_column].groupby(pd.cut(self.source_data.index, bins=unique_idx)).max().values\n",
        "        max_prices = np.repeat(max_prices, repeats, axis=0)\n",
        "        max_prices = np.where(np.concatenate((self.renko_bars.index[1:] != self.renko_bars.index[:-1], [True])), \n",
        "                              max_prices, \n",
        "                              self.renko_bars.open)\n",
        " \n",
        "        min_prices = self.source_data[self.price_column].groupby(pd.cut(self.source_data.index, bins=unique_idx)).min().values\n",
        "        min_prices = np.repeat(min_prices, repeats, axis=0)\n",
        "        min_prices = np.where(np.concatenate((self.renko_bars.index[:-1] != self.renko_bars.index[1:], [True])), \n",
        "                              min_prices, \n",
        "                              self.renko_bars.open)\n",
        "        min_prices = np.minimum(min_prices, self.renko_bars[['open', 'close']].values.min(axis=1))\n",
        "        \n",
        "      # Plot each renko bar\n",
        "      for i in range(len(self.renko_bars)):\n",
        "\n",
        "          # Set basic params for patch rectangle\n",
        "          col = col_up if self.renko_directions[i+1] >= 0 else col_down\n",
        "          open, close = self.renko_bars.loc[:, ['open','close']].values[i]\n",
        "\n",
        "          x = i + 1\n",
        "          y = open if self.renko_directions[i+1] == 1 else close\n",
        "          height = np.abs(open - close)\n",
        "\n",
        "          # Draw bar with params\n",
        "          ax.add_patch(\n",
        "              patches.Rectangle(\n",
        "                  (x, y),   # (x,y)\n",
        "                  1.0,     # width\n",
        "                  height, # height\n",
        "                  facecolor = col\n",
        "              )\n",
        "          )\n",
        "          \n",
        "          if wicks_plot:\n",
        "              x = i + 1.475\n",
        "              y = min_prices[i]\n",
        "              height = max_prices[i] - min_prices[i]\n",
        "\n",
        "              ax.add_patch(\n",
        "                  patches.Rectangle(\n",
        "                      (x, y),   # (x,y)\n",
        "                      0.05,     # width\n",
        "                      height, # height\n",
        "                      facecolor = col\n",
        "                  )\n",
        "              )\n",
        "          \n",
        "      plt.tight_layout()\n",
        "      #plt.savefig(path_to_save)\n",
        "      plt.show()\n",
        "\n",
        "\n",
        "class RenkoClassic(RenkoBasic):\n",
        "  def set_params(self, **params):\n",
        "      assert 'brick_size' in params.keys(), 'Required parameter brick_size is missing'\n",
        "      self.brick_size = params['brick_size']\n",
        "      \n",
        "  def _renko_rule(self, last_price, idx):\n",
        "      processing_flag = False\n",
        "\n",
        "    #Get direction-dependent bounds for next renko bar\n",
        "      if self.renko_directions[-1] == 0:\n",
        "          start_price_up = self.renko_prices[-1][1]\n",
        "          end_price_up = self.renko_prices[-1][1] + self.brick_size\n",
        "          start_price_down = self.renko_prices[-1][1]\n",
        "          end_price_down = self.renko_prices[-1][1] - self.brick_size\n",
        "\n",
        "      elif self.renko_directions[-1] == 1:\n",
        "          start_price_up = self.renko_prices[-1][1]\n",
        "          end_price_up = self.renko_prices[-1][1] + self.brick_size\n",
        "          start_price_down = self.renko_prices[-1][0]\n",
        "          end_price_down = self.renko_prices[-1][0] - self.brick_size\n",
        "\n",
        "      elif  self.renko_directions[-1] == -1:\n",
        "          start_price_up = self.renko_prices[-1][0]\n",
        "          end_price_up = self.renko_prices[-1][0] + self.brick_size\n",
        "          start_price_down = self.renko_prices[-1][1]\n",
        "          end_price_down = self.renko_prices[-1][1] - self.brick_size\n",
        "\n",
        "    # appending next renko bar or getting next asset price\n",
        "      if last_price >= end_price_up:\n",
        "          self.renko_directions.append(1)\n",
        "          self.renko_prices.append((start_price_up, end_price_up))\n",
        "          self.renko_index.append(idx)\n",
        "\n",
        "      elif last_price <= end_price_down:  \n",
        "          self.renko_directions.append(-1)\n",
        "          self.renko_prices.append((start_price_down, end_price_down))\n",
        "          self.renko_index.append(idx)\n",
        "\n",
        "      else:\n",
        "          processing_flag = True \n",
        "\n",
        "      return processing_flag\n",
        "\n",
        "\n",
        "class RenkoFlex(RenkoBasic):\n",
        "  def set_params(self, **params):\n",
        "      assert 'bar_size' in params.keys(), 'Required parameter bar_size is missing'\n",
        "      assert 'trend_offset' in params.keys(), 'Required parameter trend_offset is missing'\n",
        "      assert 'reversal_offset' in params.keys(), 'Required parameter brick_size is missing'\n",
        "      self.bar_size = params['bar_size']\n",
        "      self.trend_offset = params['trend_offset']\n",
        "      self.reversal_offset = params['reversal_offset']\n",
        "\n",
        "  def _renko_rule(self, last_price, idx):\n",
        "    #def flex_renko_rule(last_price, renko_prices, renko_directions, bar_size, trend_offset, reversal_offset):\n",
        "      processing_flag = False\n",
        "    #Get direction-dependent bounds for next renko bar\n",
        "\n",
        "      if self.renko_directions[-1] == 0:\n",
        "          start_price_up = self.renko_prices[-1][1]\n",
        "          end_price_up = self.renko_prices[-1][1]*(1+self.bar_size)\n",
        "          start_price_down = self.renko_prices[-1][1]\n",
        "          end_price_down = self.renko_prices[-1][1]*(1-self.bar_size)\n",
        "\n",
        "      elif self.renko_directions[-1] == 1:\n",
        "          start_price_up = self.renko_prices[-1][1]*(1 - self.trend_offset)\n",
        "          end_price_up = self.renko_prices[-1][1]*(1 + self.bar_size - self.trend_offset)\n",
        "          start_price_down = self.renko_prices[-1][0]*(1 + self.reversal_offset)\n",
        "          end_price_down = self.renko_prices[-1][0]*(1 + self.reversal_offset - self.bar_size)\n",
        "\n",
        "      elif  self.renko_directions[-1] == -1:\n",
        "          start_price_up = self.renko_prices[-1][0]*(1 - self.reversal_offset)\n",
        "          end_price_up = self.renko_prices[-1][0]*(1 - self.reversal_offset + self.bar_size)\n",
        "          start_price_down = self.renko_prices[-1][1]*(1 + self.trend_offset)\n",
        "          end_price_down = self.renko_prices[-1][1]*(1 + self.trend_offset - self.bar_size)\n",
        "\n",
        "    # appending next renko bar or getting next asset price\n",
        "      if last_price >= end_price_up:\n",
        "          self.renko_directions.append(1)\n",
        "          self.renko_prices.append((start_price_up, end_price_up))\n",
        "          self.renko_index.append(idx)\n",
        "\n",
        "\n",
        "      elif last_price <= end_price_down:  \n",
        "          self.renko_directions.append(-1)\n",
        "          self.renko_prices.append((start_price_down, end_price_down))\n",
        "          self.renko_index.append(idx)\n",
        "\n",
        "      else:\n",
        "          processing_flag = True \n",
        "\n",
        "      return processing_flag\n"
      ],
      "metadata": {
        "id": "HPZ21R3PCvAz"
      },
      "execution_count": null,
      "outputs": []
    },
    {
      "cell_type": "markdown",
      "source": [
        "# Load data"
      ],
      "metadata": {
        "id": "XWElwYfmCl8z"
      }
    },
    {
      "cell_type": "code",
      "source": [
        "START = '1993-01-01'\n",
        "END = '2022-01-01'\n",
        "data = get_asset(\"SPY\", START, END)\n",
        "data.head(4)"
      ],
      "metadata": {
        "id": "384y6KXOCmDr",
        "colab": {
          "base_uri": "https://localhost:8080/",
          "height": 221
        },
        "outputId": "f2682214-2348-4210-f35b-67c68e28e366"
      },
      "execution_count": null,
      "outputs": [
        {
          "output_type": "stream",
          "name": "stdout",
          "text": [
            "Index(['Open', 'High', 'Low', 'Close', 'Adj Close', 'Volume'], dtype='object')\n"
          ]
        },
        {
          "output_type": "execute_result",
          "data": {
            "text/plain": [
              "               price   volume\n",
              "Date                         \n",
              "1993-01-29  43.93750  1003200\n",
              "1993-02-01  44.25000   480500\n",
              "1993-02-02  44.34375   201300\n",
              "1993-02-03  44.81250   529400"
            ],
            "text/html": [
              "\n",
              "  <div id=\"df-a40e254b-08dc-4dbe-8c0a-5fb886d818db\">\n",
              "    <div class=\"colab-df-container\">\n",
              "      <div>\n",
              "<style scoped>\n",
              "    .dataframe tbody tr th:only-of-type {\n",
              "        vertical-align: middle;\n",
              "    }\n",
              "\n",
              "    .dataframe tbody tr th {\n",
              "        vertical-align: top;\n",
              "    }\n",
              "\n",
              "    .dataframe thead th {\n",
              "        text-align: right;\n",
              "    }\n",
              "</style>\n",
              "<table border=\"1\" class=\"dataframe\">\n",
              "  <thead>\n",
              "    <tr style=\"text-align: right;\">\n",
              "      <th></th>\n",
              "      <th>price</th>\n",
              "      <th>volume</th>\n",
              "    </tr>\n",
              "    <tr>\n",
              "      <th>Date</th>\n",
              "      <th></th>\n",
              "      <th></th>\n",
              "    </tr>\n",
              "  </thead>\n",
              "  <tbody>\n",
              "    <tr>\n",
              "      <th>1993-01-29</th>\n",
              "      <td>43.93750</td>\n",
              "      <td>1003200</td>\n",
              "    </tr>\n",
              "    <tr>\n",
              "      <th>1993-02-01</th>\n",
              "      <td>44.25000</td>\n",
              "      <td>480500</td>\n",
              "    </tr>\n",
              "    <tr>\n",
              "      <th>1993-02-02</th>\n",
              "      <td>44.34375</td>\n",
              "      <td>201300</td>\n",
              "    </tr>\n",
              "    <tr>\n",
              "      <th>1993-02-03</th>\n",
              "      <td>44.81250</td>\n",
              "      <td>529400</td>\n",
              "    </tr>\n",
              "  </tbody>\n",
              "</table>\n",
              "</div>\n",
              "      <button class=\"colab-df-convert\" onclick=\"convertToInteractive('df-a40e254b-08dc-4dbe-8c0a-5fb886d818db')\"\n",
              "              title=\"Convert this dataframe to an interactive table.\"\n",
              "              style=\"display:none;\">\n",
              "        \n",
              "  <svg xmlns=\"http://www.w3.org/2000/svg\" height=\"24px\"viewBox=\"0 0 24 24\"\n",
              "       width=\"24px\">\n",
              "    <path d=\"M0 0h24v24H0V0z\" fill=\"none\"/>\n",
              "    <path d=\"M18.56 5.44l.94 2.06.94-2.06 2.06-.94-2.06-.94-.94-2.06-.94 2.06-2.06.94zm-11 1L8.5 8.5l.94-2.06 2.06-.94-2.06-.94L8.5 2.5l-.94 2.06-2.06.94zm10 10l.94 2.06.94-2.06 2.06-.94-2.06-.94-.94-2.06-.94 2.06-2.06.94z\"/><path d=\"M17.41 7.96l-1.37-1.37c-.4-.4-.92-.59-1.43-.59-.52 0-1.04.2-1.43.59L10.3 9.45l-7.72 7.72c-.78.78-.78 2.05 0 2.83L4 21.41c.39.39.9.59 1.41.59.51 0 1.02-.2 1.41-.59l7.78-7.78 2.81-2.81c.8-.78.8-2.07 0-2.86zM5.41 20L4 18.59l7.72-7.72 1.47 1.35L5.41 20z\"/>\n",
              "  </svg>\n",
              "      </button>\n",
              "      \n",
              "  <style>\n",
              "    .colab-df-container {\n",
              "      display:flex;\n",
              "      flex-wrap:wrap;\n",
              "      gap: 12px;\n",
              "    }\n",
              "\n",
              "    .colab-df-convert {\n",
              "      background-color: #E8F0FE;\n",
              "      border: none;\n",
              "      border-radius: 50%;\n",
              "      cursor: pointer;\n",
              "      display: none;\n",
              "      fill: #1967D2;\n",
              "      height: 32px;\n",
              "      padding: 0 0 0 0;\n",
              "      width: 32px;\n",
              "    }\n",
              "\n",
              "    .colab-df-convert:hover {\n",
              "      background-color: #E2EBFA;\n",
              "      box-shadow: 0px 1px 2px rgba(60, 64, 67, 0.3), 0px 1px 3px 1px rgba(60, 64, 67, 0.15);\n",
              "      fill: #174EA6;\n",
              "    }\n",
              "\n",
              "    [theme=dark] .colab-df-convert {\n",
              "      background-color: #3B4455;\n",
              "      fill: #D2E3FC;\n",
              "    }\n",
              "\n",
              "    [theme=dark] .colab-df-convert:hover {\n",
              "      background-color: #434B5C;\n",
              "      box-shadow: 0px 1px 3px 1px rgba(0, 0, 0, 0.15);\n",
              "      filter: drop-shadow(0px 1px 2px rgba(0, 0, 0, 0.3));\n",
              "      fill: #FFFFFF;\n",
              "    }\n",
              "  </style>\n",
              "\n",
              "      <script>\n",
              "        const buttonEl =\n",
              "          document.querySelector('#df-a40e254b-08dc-4dbe-8c0a-5fb886d818db button.colab-df-convert');\n",
              "        buttonEl.style.display =\n",
              "          google.colab.kernel.accessAllowed ? 'block' : 'none';\n",
              "\n",
              "        async function convertToInteractive(key) {\n",
              "          const element = document.querySelector('#df-a40e254b-08dc-4dbe-8c0a-5fb886d818db');\n",
              "          const dataTable =\n",
              "            await google.colab.kernel.invokeFunction('convertToInteractive',\n",
              "                                                     [key], {});\n",
              "          if (!dataTable) return;\n",
              "\n",
              "          const docLinkHtml = 'Like what you see? Visit the ' +\n",
              "            '<a target=\"_blank\" href=https://colab.research.google.com/notebooks/data_table.ipynb>data table notebook</a>'\n",
              "            + ' to learn more about interactive tables.';\n",
              "          element.innerHTML = '';\n",
              "          dataTable['output_type'] = 'display_data';\n",
              "          await google.colab.output.renderOutput(dataTable, element);\n",
              "          const docLink = document.createElement('div');\n",
              "          docLink.innerHTML = docLinkHtml;\n",
              "          element.appendChild(docLink);\n",
              "        }\n",
              "      </script>\n",
              "    </div>\n",
              "  </div>\n",
              "  "
            ]
          },
          "metadata": {},
          "execution_count": 5
        }
      ]
    },
    {
      "cell_type": "markdown",
      "source": [
        "# Test classic Renko"
      ],
      "metadata": {
        "id": "hP_h47PGDhiL"
      }
    },
    {
      "cell_type": "code",
      "source": [
        "renko = RenkoClassic()\n",
        "classic_params = {'brick_size': 10}\n",
        "renko.set_params(**classic_params)\n",
        "renko_bars = renko.build_history(data)\n",
        "print(renko.renko_bars)\n",
        "print(renko.renko_prices[:10])\n",
        "print(renko.renko_index)\n",
        "renko.plot_renko('v', wicks_plot=True)"
      ],
      "metadata": {
        "colab": {
          "base_uri": "https://localhost:8080/",
          "height": 702
        },
        "id": "0ke2DnqlDhok",
        "outputId": "1f7abe17-9841-4d88-a124-7e748e746bfa"
      },
      "execution_count": null,
      "outputs": [
        {
          "output_type": "stream",
          "name": "stdout",
          "text": [
            "                open     close        volume\n",
            "1995-06-13   43.9375   53.9375  1.790986e+08\n",
            "1996-02-05   53.9375   63.9375  6.392890e+07\n",
            "1996-11-14   63.9375   73.9375  1.685217e+08\n",
            "1997-05-12   73.9375   83.9375  2.369335e+08\n",
            "1997-07-24   83.9375   93.9375  1.161684e+08\n",
            "...              ...       ...           ...\n",
            "2021-07-07  423.9375  433.9375  1.064443e+09\n",
            "2021-08-12  433.9375  443.9375  1.595681e+09\n",
            "2021-10-25  443.9375  453.9375  3.841138e+09\n",
            "2021-11-03  453.9375  463.9375  3.999652e+08\n",
            "2021-12-27  463.9375  473.9375  2.890590e+09\n",
            "\n",
            "[103 rows x 3 columns]\n",
            "[(43.9375, 43.9375), (43.9375, 53.9375), (53.9375, 63.9375), (63.9375, 73.9375), (73.9375, 83.9375), (83.9375, 93.9375), (93.9375, 103.9375), (103.9375, 113.9375), (113.9375, 123.9375), (123.9375, 133.9375)]\n",
            "[Timestamp('1993-01-29 00:00:00'), Timestamp('1995-06-13 00:00:00'), Timestamp('1996-02-05 00:00:00'), Timestamp('1996-11-14 00:00:00'), Timestamp('1997-05-12 00:00:00'), Timestamp('1997-07-24 00:00:00'), Timestamp('1998-02-23 00:00:00'), Timestamp('1998-06-29 00:00:00'), Timestamp('1998-12-29 00:00:00'), Timestamp('1999-04-08 00:00:00'), Timestamp('1999-12-22 00:00:00'), Timestamp('2001-03-02 00:00:00'), Timestamp('2001-03-21 00:00:00'), Timestamp('2001-09-19 00:00:00'), Timestamp('2002-07-10 00:00:00'), Timestamp('2002-07-22 00:00:00'), Timestamp('2003-09-18 00:00:00'), Timestamp('2004-01-16 00:00:00'), Timestamp('2005-07-28 00:00:00'), Timestamp('2006-10-04 00:00:00'), Timestamp('2007-01-24 00:00:00'), Timestamp('2007-06-01 00:00:00'), Timestamp('2008-01-17 00:00:00'), Timestamp('2008-07-11 00:00:00'), Timestamp('2008-09-29 00:00:00'), Timestamp('2008-10-07 00:00:00'), Timestamp('2008-10-09 00:00:00'), Timestamp('2008-11-19 00:00:00'), Timestamp('2009-02-27 00:00:00'), Timestamp('2009-06-01 00:00:00'), Timestamp('2009-09-10 00:00:00'), Timestamp('2010-01-07 00:00:00'), Timestamp('2010-12-10 00:00:00'), Timestamp('2011-02-17 00:00:00'), Timestamp('2011-08-08 00:00:00'), Timestamp('2012-02-03 00:00:00'), Timestamp('2012-09-07 00:00:00'), Timestamp('2013-03-05 00:00:00'), Timestamp('2013-05-14 00:00:00'), Timestamp('2013-10-18 00:00:00'), Timestamp('2013-12-31 00:00:00'), Timestamp('2014-06-05 00:00:00'), Timestamp('2014-11-10 00:00:00'), Timestamp('2016-02-11 00:00:00'), Timestamp('2016-03-17 00:00:00'), Timestamp('2016-07-12 00:00:00'), Timestamp('2016-12-07 00:00:00'), Timestamp('2017-02-15 00:00:00'), Timestamp('2017-06-02 00:00:00'), Timestamp('2017-10-05 00:00:00'), Timestamp('2017-11-30 00:00:00'), Timestamp('2018-01-09 00:00:00'), Timestamp('2018-01-26 00:00:00'), Timestamp('2018-02-05 00:00:00'), Timestamp('2018-07-25 00:00:00'), Timestamp('2018-10-29 00:00:00'), Timestamp('2018-12-19 00:00:00'), Timestamp('2018-12-21 00:00:00'), Timestamp('2019-01-18 00:00:00'), Timestamp('2019-02-12 00:00:00'), Timestamp('2019-03-21 00:00:00'), Timestamp('2019-04-30 00:00:00'), Timestamp('2019-10-30 00:00:00'), Timestamp('2019-11-26 00:00:00'), Timestamp('2020-01-02 00:00:00'), Timestamp('2020-02-06 00:00:00'), Timestamp('2020-02-25 00:00:00'), Timestamp('2020-02-27 00:00:00'), Timestamp('2020-03-09 00:00:00'), Timestamp('2020-03-09 00:00:00'), Timestamp('2020-03-12 00:00:00'), Timestamp('2020-03-12 00:00:00'), Timestamp('2020-03-12 00:00:00'), Timestamp('2020-03-16 00:00:00'), Timestamp('2020-03-20 00:00:00'), Timestamp('2020-03-23 00:00:00'), Timestamp('2020-03-25 00:00:00'), Timestamp('2020-03-26 00:00:00'), Timestamp('2020-04-06 00:00:00'), Timestamp('2020-04-08 00:00:00'), Timestamp('2020-04-17 00:00:00'), Timestamp('2020-05-18 00:00:00'), Timestamp('2020-05-29 00:00:00'), Timestamp('2020-06-05 00:00:00'), Timestamp('2020-07-20 00:00:00'), Timestamp('2020-08-06 00:00:00'), Timestamp('2020-08-25 00:00:00'), Timestamp('2020-09-02 00:00:00'), Timestamp('2020-09-08 00:00:00'), Timestamp('2020-09-23 00:00:00'), Timestamp('2020-10-09 00:00:00'), Timestamp('2020-11-09 00:00:00'), Timestamp('2020-12-01 00:00:00'), Timestamp('2021-01-07 00:00:00'), Timestamp('2021-01-21 00:00:00'), Timestamp('2021-03-12 00:00:00'), Timestamp('2021-04-05 00:00:00'), Timestamp('2021-04-15 00:00:00'), Timestamp('2021-06-11 00:00:00'), Timestamp('2021-07-07 00:00:00'), Timestamp('2021-08-12 00:00:00'), Timestamp('2021-10-25 00:00:00'), Timestamp('2021-11-03 00:00:00'), Timestamp('2021-12-27 00:00:00')]\n"
          ]
        },
        {
          "output_type": "display_data",
          "data": {
            "text/plain": [
              "<Figure size 1296x432 with 1 Axes>"
            ],
            "image/png": "[encoded data removed]"
          },
          "metadata": {
            "needs_background": "light"
          }
        }
      ]
    },
    {
      "cell_type": "markdown",
      "source": [
        "## add data to history"
      ],
      "metadata": {
        "id": "A_ZjXdSGD4Nc"
      }
    },
    {
      "cell_type": "markdown",
      "source": [
        "## add 1 point"
      ],
      "metadata": {
        "id": "NKbxwFWXEsfd"
      }
    },
    {
      "cell_type": "code",
      "source": [
        "# 1 day\n",
        "START = '2022-01-01'\n",
        "END = '2022-01-04'\n",
        "add_data = get_asset(\"SPY\", START, END)\n",
        "add_data.head(4)"
      ],
      "metadata": {
        "colab": {
          "base_uri": "https://localhost:8080/",
          "height": 128
        },
        "id": "c39RglQnD4UF",
        "outputId": "48642152-c7a2-4086-8afc-d23ff6085604"
      },
      "execution_count": null,
      "outputs": [
        {
          "output_type": "stream",
          "name": "stdout",
          "text": [
            "Index(['Open', 'High', 'Low', 'Close', 'Adj Close', 'Volume'], dtype='object')\n"
          ]
        },
        {
          "output_type": "execute_result",
          "data": {
            "text/plain": [
              "                 price    volume\n",
              "Date                            \n",
              "2022-01-03  477.709991  72668200"
            ],
            "text/html": [
              "\n",
              "  <div id=\"df-8394aeab-590c-4f18-8b30-2095e46ff946\">\n",
              "    <div class=\"colab-df-container\">\n",
              "      <div>\n",
              "<style scoped>\n",
              "    .dataframe tbody tr th:only-of-type {\n",
              "        vertical-align: middle;\n",
              "    }\n",
              "\n",
              "    .dataframe tbody tr th {\n",
              "        vertical-align: top;\n",
              "    }\n",
              "\n",
              "    .dataframe thead th {\n",
              "        text-align: right;\n",
              "    }\n",
              "</style>\n",
              "<table border=\"1\" class=\"dataframe\">\n",
              "  <thead>\n",
              "    <tr style=\"text-align: right;\">\n",
              "      <th></th>\n",
              "      <th>price</th>\n",
              "      <th>volume</th>\n",
              "    </tr>\n",
              "    <tr>\n",
              "      <th>Date</th>\n",
              "      <th></th>\n",
              "      <th></th>\n",
              "    </tr>\n",
              "  </thead>\n",
              "  <tbody>\n",
              "    <tr>\n",
              "      <th>2022-01-03</th>\n",
              "      <td>477.709991</td>\n",
              "      <td>72668200</td>\n",
              "    </tr>\n",
              "  </tbody>\n",
              "</table>\n",
              "</div>\n",
              "      <button class=\"colab-df-convert\" onclick=\"convertToInteractive('df-8394aeab-590c-4f18-8b30-2095e46ff946')\"\n",
              "              title=\"Convert this dataframe to an interactive table.\"\n",
              "              style=\"display:none;\">\n",
              "        \n",
              "  <svg xmlns=\"http://www.w3.org/2000/svg\" height=\"24px\"viewBox=\"0 0 24 24\"\n",
              "       width=\"24px\">\n",
              "    <path d=\"M0 0h24v24H0V0z\" fill=\"none\"/>\n",
              "    <path d=\"M18.56 5.44l.94 2.06.94-2.06 2.06-.94-2.06-.94-.94-2.06-.94 2.06-2.06.94zm-11 1L8.5 8.5l.94-2.06 2.06-.94-2.06-.94L8.5 2.5l-.94 2.06-2.06.94zm10 10l.94 2.06.94-2.06 2.06-.94-2.06-.94-.94-2.06-.94 2.06-2.06.94z\"/><path d=\"M17.41 7.96l-1.37-1.37c-.4-.4-.92-.59-1.43-.59-.52 0-1.04.2-1.43.59L10.3 9.45l-7.72 7.72c-.78.78-.78 2.05 0 2.83L4 21.41c.39.39.9.59 1.41.59.51 0 1.02-.2 1.41-.59l7.78-7.78 2.81-2.81c.8-.78.8-2.07 0-2.86zM5.41 20L4 18.59l7.72-7.72 1.47 1.35L5.41 20z\"/>\n",
              "  </svg>\n",
              "      </button>\n",
              "      \n",
              "  <style>\n",
              "    .colab-df-container {\n",
              "      display:flex;\n",
              "      flex-wrap:wrap;\n",
              "      gap: 12px;\n",
              "    }\n",
              "\n",
              "    .colab-df-convert {\n",
              "      background-color: #E8F0FE;\n",
              "      border: none;\n",
              "      border-radius: 50%;\n",
              "      cursor: pointer;\n",
              "      display: none;\n",
              "      fill: #1967D2;\n",
              "      height: 32px;\n",
              "      padding: 0 0 0 0;\n",
              "      width: 32px;\n",
              "    }\n",
              "\n",
              "    .colab-df-convert:hover {\n",
              "      background-color: #E2EBFA;\n",
              "      box-shadow: 0px 1px 2px rgba(60, 64, 67, 0.3), 0px 1px 3px 1px rgba(60, 64, 67, 0.15);\n",
              "      fill: #174EA6;\n",
              "    }\n",
              "\n",
              "    [theme=dark] .colab-df-convert {\n",
              "      background-color: #3B4455;\n",
              "      fill: #D2E3FC;\n",
              "    }\n",
              "\n",
              "    [theme=dark] .colab-df-convert:hover {\n",
              "      background-color: #434B5C;\n",
              "      box-shadow: 0px 1px 3px 1px rgba(0, 0, 0, 0.15);\n",
              "      filter: drop-shadow(0px 1px 2px rgba(0, 0, 0, 0.3));\n",
              "      fill: #FFFFFF;\n",
              "    }\n",
              "  </style>\n",
              "\n",
              "      <script>\n",
              "        const buttonEl =\n",
              "          document.querySelector('#df-8394aeab-590c-4f18-8b30-2095e46ff946 button.colab-df-convert');\n",
              "        buttonEl.style.display =\n",
              "          google.colab.kernel.accessAllowed ? 'block' : 'none';\n",
              "\n",
              "        async function convertToInteractive(key) {\n",
              "          const element = document.querySelector('#df-8394aeab-590c-4f18-8b30-2095e46ff946');\n",
              "          const dataTable =\n",
              "            await google.colab.kernel.invokeFunction('convertToInteractive',\n",
              "                                                     [key], {});\n",
              "          if (!dataTable) return;\n",
              "\n",
              "          const docLinkHtml = 'Like what you see? Visit the ' +\n",
              "            '<a target=\"_blank\" href=https://colab.research.google.com/notebooks/data_table.ipynb>data table notebook</a>'\n",
              "            + ' to learn more about interactive tables.';\n",
              "          element.innerHTML = '';\n",
              "          dataTable['output_type'] = 'display_data';\n",
              "          await google.colab.output.renderOutput(dataTable, element);\n",
              "          const docLink = document.createElement('div');\n",
              "          docLink.innerHTML = docLinkHtml;\n",
              "          element.appendChild(docLink);\n",
              "        }\n",
              "      </script>\n",
              "    </div>\n",
              "  </div>\n",
              "  "
            ]
          },
          "metadata": {},
          "execution_count": 7
        }
      ]
    },
    {
      "cell_type": "code",
      "source": [
        "renko.add_history(add_data)\n",
        "\n",
        "print(renko.source_data.tail())\n",
        "print(renko.renko_bars)\n",
        "print(renko.renko_index)"
      ],
      "metadata": {
        "colab": {
          "base_uri": "https://localhost:8080/"
        },
        "id": "b0AeeM1pDqcz",
        "outputId": "14f3f14a-b61b-442f-a572-31e0c0d936cd"
      },
      "execution_count": null,
      "outputs": [
        {
          "output_type": "stream",
          "name": "stdout",
          "text": [
            "                 price    volume\n",
            "Date                            \n",
            "2021-12-28  476.869995  47274600\n",
            "2021-12-29  477.480011  54503000\n",
            "2021-12-30  476.160004  55329000\n",
            "2021-12-31  474.959991  65237400\n",
            "2022-01-03  477.709991  72668200\n",
            "                open     close        volume\n",
            "1995-06-13   43.9375   53.9375  1.790986e+08\n",
            "1996-02-05   53.9375   63.9375  6.392890e+07\n",
            "1996-11-14   63.9375   73.9375  1.685217e+08\n",
            "1997-05-12   73.9375   83.9375  2.369335e+08\n",
            "1997-07-24   83.9375   93.9375  1.161684e+08\n",
            "...              ...       ...           ...\n",
            "2021-07-07  423.9375  433.9375  1.064443e+09\n",
            "2021-08-12  433.9375  443.9375  1.595681e+09\n",
            "2021-10-25  443.9375  453.9375  3.841138e+09\n",
            "2021-11-03  453.9375  463.9375  3.999652e+08\n",
            "2021-12-27  463.9375  473.9375  2.890590e+09\n",
            "\n",
            "[103 rows x 3 columns]\n",
            "[Timestamp('1993-01-29 00:00:00'), Timestamp('1995-06-13 00:00:00'), Timestamp('1996-02-05 00:00:00'), Timestamp('1996-11-14 00:00:00'), Timestamp('1997-05-12 00:00:00'), Timestamp('1997-07-24 00:00:00'), Timestamp('1998-02-23 00:00:00'), Timestamp('1998-06-29 00:00:00'), Timestamp('1998-12-29 00:00:00'), Timestamp('1999-04-08 00:00:00'), Timestamp('1999-12-22 00:00:00'), Timestamp('2001-03-02 00:00:00'), Timestamp('2001-03-21 00:00:00'), Timestamp('2001-09-19 00:00:00'), Timestamp('2002-07-10 00:00:00'), Timestamp('2002-07-22 00:00:00'), Timestamp('2003-09-18 00:00:00'), Timestamp('2004-01-16 00:00:00'), Timestamp('2005-07-28 00:00:00'), Timestamp('2006-10-04 00:00:00'), Timestamp('2007-01-24 00:00:00'), Timestamp('2007-06-01 00:00:00'), Timestamp('2008-01-17 00:00:00'), Timestamp('2008-07-11 00:00:00'), Timestamp('2008-09-29 00:00:00'), Timestamp('2008-10-07 00:00:00'), Timestamp('2008-10-09 00:00:00'), Timestamp('2008-11-19 00:00:00'), Timestamp('2009-02-27 00:00:00'), Timestamp('2009-06-01 00:00:00'), Timestamp('2009-09-10 00:00:00'), Timestamp('2010-01-07 00:00:00'), Timestamp('2010-12-10 00:00:00'), Timestamp('2011-02-17 00:00:00'), Timestamp('2011-08-08 00:00:00'), Timestamp('2012-02-03 00:00:00'), Timestamp('2012-09-07 00:00:00'), Timestamp('2013-03-05 00:00:00'), Timestamp('2013-05-14 00:00:00'), Timestamp('2013-10-18 00:00:00'), Timestamp('2013-12-31 00:00:00'), Timestamp('2014-06-05 00:00:00'), Timestamp('2014-11-10 00:00:00'), Timestamp('2016-02-11 00:00:00'), Timestamp('2016-03-17 00:00:00'), Timestamp('2016-07-12 00:00:00'), Timestamp('2016-12-07 00:00:00'), Timestamp('2017-02-15 00:00:00'), Timestamp('2017-06-02 00:00:00'), Timestamp('2017-10-05 00:00:00'), Timestamp('2017-11-30 00:00:00'), Timestamp('2018-01-09 00:00:00'), Timestamp('2018-01-26 00:00:00'), Timestamp('2018-02-05 00:00:00'), Timestamp('2018-07-25 00:00:00'), Timestamp('2018-10-29 00:00:00'), Timestamp('2018-12-19 00:00:00'), Timestamp('2018-12-21 00:00:00'), Timestamp('2019-01-18 00:00:00'), Timestamp('2019-02-12 00:00:00'), Timestamp('2019-03-21 00:00:00'), Timestamp('2019-04-30 00:00:00'), Timestamp('2019-10-30 00:00:00'), Timestamp('2019-11-26 00:00:00'), Timestamp('2020-01-02 00:00:00'), Timestamp('2020-02-06 00:00:00'), Timestamp('2020-02-25 00:00:00'), Timestamp('2020-02-27 00:00:00'), Timestamp('2020-03-09 00:00:00'), Timestamp('2020-03-09 00:00:00'), Timestamp('2020-03-12 00:00:00'), Timestamp('2020-03-12 00:00:00'), Timestamp('2020-03-12 00:00:00'), Timestamp('2020-03-16 00:00:00'), Timestamp('2020-03-20 00:00:00'), Timestamp('2020-03-23 00:00:00'), Timestamp('2020-03-25 00:00:00'), Timestamp('2020-03-26 00:00:00'), Timestamp('2020-04-06 00:00:00'), Timestamp('2020-04-08 00:00:00'), Timestamp('2020-04-17 00:00:00'), Timestamp('2020-05-18 00:00:00'), Timestamp('2020-05-29 00:00:00'), Timestamp('2020-06-05 00:00:00'), Timestamp('2020-07-20 00:00:00'), Timestamp('2020-08-06 00:00:00'), Timestamp('2020-08-25 00:00:00'), Timestamp('2020-09-02 00:00:00'), Timestamp('2020-09-08 00:00:00'), Timestamp('2020-09-23 00:00:00'), Timestamp('2020-10-09 00:00:00'), Timestamp('2020-11-09 00:00:00'), Timestamp('2020-12-01 00:00:00'), Timestamp('2021-01-07 00:00:00'), Timestamp('2021-01-21 00:00:00'), Timestamp('2021-03-12 00:00:00'), Timestamp('2021-04-05 00:00:00'), Timestamp('2021-04-15 00:00:00'), Timestamp('2021-06-11 00:00:00'), Timestamp('2021-07-07 00:00:00'), Timestamp('2021-08-12 00:00:00'), Timestamp('2021-10-25 00:00:00'), Timestamp('2021-11-03 00:00:00'), Timestamp('2021-12-27 00:00:00')]\n"
          ]
        }
      ]
    },
    {
      "cell_type": "markdown",
      "source": [
        "# add more than 1 point"
      ],
      "metadata": {
        "id": "H0fE4EAKEvck"
      }
    },
    {
      "cell_type": "code",
      "source": [
        "# 10 month\n",
        "START = '2022-01-04'\n",
        "END = '2022-06-01'\n",
        "add_data = get_asset(\"SPY\", START, END)\n",
        "add_data.head(4)"
      ],
      "metadata": {
        "colab": {
          "base_uri": "https://localhost:8080/",
          "height": 221
        },
        "id": "eQyxGcL-D8hu",
        "outputId": "cba119f7-ef5e-48a3-d8f3-3539b67b670a"
      },
      "execution_count": null,
      "outputs": [
        {
          "output_type": "stream",
          "name": "stdout",
          "text": [
            "Index(['Open', 'High', 'Low', 'Close', 'Adj Close', 'Volume'], dtype='object')\n"
          ]
        },
        {
          "output_type": "execute_result",
          "data": {
            "text/plain": [
              "                 price     volume\n",
              "Date                             \n",
              "2022-01-04  477.549988   71178700\n",
              "2022-01-05  468.380005  104538900\n",
              "2022-01-06  467.940002   86858900\n",
              "2022-01-07  466.089996   85111600"
            ],
            "text/html": [
              "\n",
              "  <div id=\"df-90559c20-3990-43e5-b2f1-1e1693a3733b\">\n",
              "    <div class=\"colab-df-container\">\n",
              "      <div>\n",
              "<style scoped>\n",
              "    .dataframe tbody tr th:only-of-type {\n",
              "        vertical-align: middle;\n",
              "    }\n",
              "\n",
              "    .dataframe tbody tr th {\n",
              "        vertical-align: top;\n",
              "    }\n",
              "\n",
              "    .dataframe thead th {\n",
              "        text-align: right;\n",
              "    }\n",
              "</style>\n",
              "<table border=\"1\" class=\"dataframe\">\n",
              "  <thead>\n",
              "    <tr style=\"text-align: right;\">\n",
              "      <th></th>\n",
              "      <th>price</th>\n",
              "      <th>volume</th>\n",
              "    </tr>\n",
              "    <tr>\n",
              "      <th>Date</th>\n",
              "      <th></th>\n",
              "      <th></th>\n",
              "    </tr>\n",
              "  </thead>\n",
              "  <tbody>\n",
              "    <tr>\n",
              "      <th>2022-01-04</th>\n",
              "      <td>477.549988</td>\n",
              "      <td>71178700</td>\n",
              "    </tr>\n",
              "    <tr>\n",
              "      <th>2022-01-05</th>\n",
              "      <td>468.380005</td>\n",
              "      <td>104538900</td>\n",
              "    </tr>\n",
              "    <tr>\n",
              "      <th>2022-01-06</th>\n",
              "      <td>467.940002</td>\n",
              "      <td>86858900</td>\n",
              "    </tr>\n",
              "    <tr>\n",
              "      <th>2022-01-07</th>\n",
              "      <td>466.089996</td>\n",
              "      <td>85111600</td>\n",
              "    </tr>\n",
              "  </tbody>\n",
              "</table>\n",
              "</div>\n",
              "      <button class=\"colab-df-convert\" onclick=\"convertToInteractive('df-90559c20-3990-43e5-b2f1-1e1693a3733b')\"\n",
              "              title=\"Convert this dataframe to an interactive table.\"\n",
              "              style=\"display:none;\">\n",
              "        \n",
              "  <svg xmlns=\"http://www.w3.org/2000/svg\" height=\"24px\"viewBox=\"0 0 24 24\"\n",
              "       width=\"24px\">\n",
              "    <path d=\"M0 0h24v24H0V0z\" fill=\"none\"/>\n",
              "    <path d=\"M18.56 5.44l.94 2.06.94-2.06 2.06-.94-2.06-.94-.94-2.06-.94 2.06-2.06.94zm-11 1L8.5 8.5l.94-2.06 2.06-.94-2.06-.94L8.5 2.5l-.94 2.06-2.06.94zm10 10l.94 2.06.94-2.06 2.06-.94-2.06-.94-.94-2.06-.94 2.06-2.06.94z\"/><path d=\"M17.41 7.96l-1.37-1.37c-.4-.4-.92-.59-1.43-.59-.52 0-1.04.2-1.43.59L10.3 9.45l-7.72 7.72c-.78.78-.78 2.05 0 2.83L4 21.41c.39.39.9.59 1.41.59.51 0 1.02-.2 1.41-.59l7.78-7.78 2.81-2.81c.8-.78.8-2.07 0-2.86zM5.41 20L4 18.59l7.72-7.72 1.47 1.35L5.41 20z\"/>\n",
              "  </svg>\n",
              "      </button>\n",
              "      \n",
              "  <style>\n",
              "    .colab-df-container {\n",
              "      display:flex;\n",
              "      flex-wrap:wrap;\n",
              "      gap: 12px;\n",
              "    }\n",
              "\n",
              "    .colab-df-convert {\n",
              "      background-color: #E8F0FE;\n",
              "      border: none;\n",
              "      border-radius: 50%;\n",
              "      cursor: pointer;\n",
              "      display: none;\n",
              "      fill: #1967D2;\n",
              "      height: 32px;\n",
              "      padding: 0 0 0 0;\n",
              "      width: 32px;\n",
              "    }\n",
              "\n",
              "    .colab-df-convert:hover {\n",
              "      background-color: #E2EBFA;\n",
              "      box-shadow: 0px 1px 2px rgba(60, 64, 67, 0.3), 0px 1px 3px 1px rgba(60, 64, 67, 0.15);\n",
              "      fill: #174EA6;\n",
              "    }\n",
              "\n",
              "    [theme=dark] .colab-df-convert {\n",
              "      background-color: #3B4455;\n",
              "      fill: #D2E3FC;\n",
              "    }\n",
              "\n",
              "    [theme=dark] .colab-df-convert:hover {\n",
              "      background-color: #434B5C;\n",
              "      box-shadow: 0px 1px 3px 1px rgba(0, 0, 0, 0.15);\n",
              "      filter: drop-shadow(0px 1px 2px rgba(0, 0, 0, 0.3));\n",
              "      fill: #FFFFFF;\n",
              "    }\n",
              "  </style>\n",
              "\n",
              "      <script>\n",
              "        const buttonEl =\n",
              "          document.querySelector('#df-90559c20-3990-43e5-b2f1-1e1693a3733b button.colab-df-convert');\n",
              "        buttonEl.style.display =\n",
              "          google.colab.kernel.accessAllowed ? 'block' : 'none';\n",
              "\n",
              "        async function convertToInteractive(key) {\n",
              "          const element = document.querySelector('#df-90559c20-3990-43e5-b2f1-1e1693a3733b');\n",
              "          const dataTable =\n",
              "            await google.colab.kernel.invokeFunction('convertToInteractive',\n",
              "                                                     [key], {});\n",
              "          if (!dataTable) return;\n",
              "\n",
              "          const docLinkHtml = 'Like what you see? Visit the ' +\n",
              "            '<a target=\"_blank\" href=https://colab.research.google.com/notebooks/data_table.ipynb>data table notebook</a>'\n",
              "            + ' to learn more about interactive tables.';\n",
              "          element.innerHTML = '';\n",
              "          dataTable['output_type'] = 'display_data';\n",
              "          await google.colab.output.renderOutput(dataTable, element);\n",
              "          const docLink = document.createElement('div');\n",
              "          docLink.innerHTML = docLinkHtml;\n",
              "          element.appendChild(docLink);\n",
              "        }\n",
              "      </script>\n",
              "    </div>\n",
              "  </div>\n",
              "  "
            ]
          },
          "metadata": {},
          "execution_count": 9
        }
      ]
    },
    {
      "cell_type": "code",
      "source": [
        "renko.add_history(add_data)\n",
        "\n",
        "print(renko.source_data.tail())\n",
        "print(renko.renko_bars)\n",
        "print(renko.renko_index)"
      ],
      "metadata": {
        "colab": {
          "base_uri": "https://localhost:8080/"
        },
        "id": "FELc_hjqE4eE",
        "outputId": "20408594-d077-467c-cb43-63331d08ede1"
      },
      "execution_count": null,
      "outputs": [
        {
          "output_type": "stream",
          "name": "stdout",
          "text": [
            "                 price    volume\n",
            "Date                            \n",
            "2022-05-23  396.920013  76414900\n",
            "2022-05-24  393.890015  91448800\n",
            "2022-05-25  397.369995  91472900\n",
            "2022-05-26  405.309998  81974900\n",
            "2022-05-27  411.450104  14654979\n",
            "                open     close        volume\n",
            "1995-06-13   43.9375   53.9375  1.790986e+08\n",
            "1996-02-05   53.9375   63.9375  6.392890e+07\n",
            "1996-11-14   63.9375   73.9375  1.685217e+08\n",
            "1997-05-12   73.9375   83.9375  2.369335e+08\n",
            "1997-07-24   83.9375   93.9375  1.161684e+08\n",
            "...              ...       ...           ...\n",
            "2022-04-22  443.9375  433.9375  1.548092e+09\n",
            "2022-04-26  433.9375  423.9375  2.236440e+08\n",
            "2022-04-29  423.9375  413.9375  3.726670e+08\n",
            "2022-05-09  413.9375  403.9375  8.827751e+08\n",
            "2022-05-11  403.9375  393.9375  2.748582e+08\n",
            "\n",
            "[116 rows x 3 columns]\n",
            "[Timestamp('1993-01-29 00:00:00'), Timestamp('1995-06-13 00:00:00'), Timestamp('1996-02-05 00:00:00'), Timestamp('1996-11-14 00:00:00'), Timestamp('1997-05-12 00:00:00'), Timestamp('1997-07-24 00:00:00'), Timestamp('1998-02-23 00:00:00'), Timestamp('1998-06-29 00:00:00'), Timestamp('1998-12-29 00:00:00'), Timestamp('1999-04-08 00:00:00'), Timestamp('1999-12-22 00:00:00'), Timestamp('2001-03-02 00:00:00'), Timestamp('2001-03-21 00:00:00'), Timestamp('2001-09-19 00:00:00'), Timestamp('2002-07-10 00:00:00'), Timestamp('2002-07-22 00:00:00'), Timestamp('2003-09-18 00:00:00'), Timestamp('2004-01-16 00:00:00'), Timestamp('2005-07-28 00:00:00'), Timestamp('2006-10-04 00:00:00'), Timestamp('2007-01-24 00:00:00'), Timestamp('2007-06-01 00:00:00'), Timestamp('2008-01-17 00:00:00'), Timestamp('2008-07-11 00:00:00'), Timestamp('2008-09-29 00:00:00'), Timestamp('2008-10-07 00:00:00'), Timestamp('2008-10-09 00:00:00'), Timestamp('2008-11-19 00:00:00'), Timestamp('2009-02-27 00:00:00'), Timestamp('2009-06-01 00:00:00'), Timestamp('2009-09-10 00:00:00'), Timestamp('2010-01-07 00:00:00'), Timestamp('2010-12-10 00:00:00'), Timestamp('2011-02-17 00:00:00'), Timestamp('2011-08-08 00:00:00'), Timestamp('2012-02-03 00:00:00'), Timestamp('2012-09-07 00:00:00'), Timestamp('2013-03-05 00:00:00'), Timestamp('2013-05-14 00:00:00'), Timestamp('2013-10-18 00:00:00'), Timestamp('2013-12-31 00:00:00'), Timestamp('2014-06-05 00:00:00'), Timestamp('2014-11-10 00:00:00'), Timestamp('2016-02-11 00:00:00'), Timestamp('2016-03-17 00:00:00'), Timestamp('2016-07-12 00:00:00'), Timestamp('2016-12-07 00:00:00'), Timestamp('2017-02-15 00:00:00'), Timestamp('2017-06-02 00:00:00'), Timestamp('2017-10-05 00:00:00'), Timestamp('2017-11-30 00:00:00'), Timestamp('2018-01-09 00:00:00'), Timestamp('2018-01-26 00:00:00'), Timestamp('2018-02-05 00:00:00'), Timestamp('2018-07-25 00:00:00'), Timestamp('2018-10-29 00:00:00'), Timestamp('2018-12-19 00:00:00'), Timestamp('2018-12-21 00:00:00'), Timestamp('2019-01-18 00:00:00'), Timestamp('2019-02-12 00:00:00'), Timestamp('2019-03-21 00:00:00'), Timestamp('2019-04-30 00:00:00'), Timestamp('2019-10-30 00:00:00'), Timestamp('2019-11-26 00:00:00'), Timestamp('2020-01-02 00:00:00'), Timestamp('2020-02-06 00:00:00'), Timestamp('2020-02-25 00:00:00'), Timestamp('2020-02-27 00:00:00'), Timestamp('2020-03-09 00:00:00'), Timestamp('2020-03-09 00:00:00'), Timestamp('2020-03-12 00:00:00'), Timestamp('2020-03-12 00:00:00'), Timestamp('2020-03-12 00:00:00'), Timestamp('2020-03-16 00:00:00'), Timestamp('2020-03-20 00:00:00'), Timestamp('2020-03-23 00:00:00'), Timestamp('2020-03-25 00:00:00'), Timestamp('2020-03-26 00:00:00'), Timestamp('2020-04-06 00:00:00'), Timestamp('2020-04-08 00:00:00'), Timestamp('2020-04-17 00:00:00'), Timestamp('2020-05-18 00:00:00'), Timestamp('2020-05-29 00:00:00'), Timestamp('2020-06-05 00:00:00'), Timestamp('2020-07-20 00:00:00'), Timestamp('2020-08-06 00:00:00'), Timestamp('2020-08-25 00:00:00'), Timestamp('2020-09-02 00:00:00'), Timestamp('2020-09-08 00:00:00'), Timestamp('2020-09-23 00:00:00'), Timestamp('2020-10-09 00:00:00'), Timestamp('2020-11-09 00:00:00'), Timestamp('2020-12-01 00:00:00'), Timestamp('2021-01-07 00:00:00'), Timestamp('2021-01-21 00:00:00'), Timestamp('2021-03-12 00:00:00'), Timestamp('2021-04-05 00:00:00'), Timestamp('2021-04-15 00:00:00'), Timestamp('2021-06-11 00:00:00'), Timestamp('2021-07-07 00:00:00'), Timestamp('2021-08-12 00:00:00'), Timestamp('2021-10-25 00:00:00'), Timestamp('2021-11-03 00:00:00'), Timestamp('2021-12-27 00:00:00'), Timestamp('2022-01-19 00:00:00'), Timestamp('2022-01-21 00:00:00'), Timestamp('2022-01-26 00:00:00'), Timestamp('2022-02-02 00:00:00'), Timestamp('2022-02-22 00:00:00'), Timestamp('2022-02-23 00:00:00'), Timestamp('2022-03-18 00:00:00'), Timestamp('2022-03-28 00:00:00'), Timestamp('2022-04-22 00:00:00'), Timestamp('2022-04-26 00:00:00'), Timestamp('2022-04-29 00:00:00'), Timestamp('2022-05-09 00:00:00'), Timestamp('2022-05-11 00:00:00')]\n"
          ]
        }
      ]
    },
    {
      "cell_type": "markdown",
      "source": [
        "# paired_plot"
      ],
      "metadata": {
        "id": "XCS4N0GvFSpd"
      }
    },
    {
      "cell_type": "code",
      "source": [
        "renko.paired_plot_renko('', figsize=(14,7))"
      ],
      "metadata": {
        "colab": {
          "base_uri": "https://localhost:8080/",
          "height": 513
        },
        "id": "ODNt18BsE44y",
        "outputId": "ccf959a3-adcd-46e3-9167-ec785a401ff7"
      },
      "execution_count": null,
      "outputs": [
        {
          "output_type": "display_data",
          "data": {
            "text/plain": [
              "<Figure size 1008x504 with 2 Axes>"
            ],
            "image/png": "[encoded data removed]"
          },
          "metadata": {
            "needs_background": "light"
          }
        }
      ]
    },
    {
      "cell_type": "markdown",
      "source": [
        "# timeit"
      ],
      "metadata": {
        "id": "ona5i_YbFb2E"
      }
    },
    {
      "cell_type": "code",
      "source": [
        "renko = RenkoClassic()\n",
        "classic_params = {'brick_size': .5}\n",
        "renko.set_params(**classic_params)"
      ],
      "metadata": {
        "id": "2tSU1kG3Sa9X"
      },
      "execution_count": null,
      "outputs": []
    },
    {
      "cell_type": "code",
      "source": [
        "%%timeit\n",
        "renko_bars = renko.build_history(data)\n"
      ],
      "metadata": {
        "colab": {
          "base_uri": "https://localhost:8080/"
        },
        "id": "naidhS-fR_Tg",
        "outputId": "ac2d729f-c63e-4364-fc77-d049704952db"
      },
      "execution_count": null,
      "outputs": [
        {
          "output_type": "stream",
          "name": "stdout",
          "text": [
            "10 loops, best of 5: 120 ms per loop\n"
          ]
        }
      ]
    },
    {
      "cell_type": "code",
      "source": [
        "len(data)"
      ],
      "metadata": {
        "colab": {
          "base_uri": "https://localhost:8080/"
        },
        "id": "Ona4r76hWucw",
        "outputId": "85f337ac-987e-4720-ced2-e1bcbf40a9c1"
      },
      "execution_count": null,
      "outputs": [
        {
          "output_type": "execute_result",
          "data": {
            "text/plain": [
              "7285"
            ]
          },
          "metadata": {},
          "execution_count": 18
        }
      ]
    },
    {
      "cell_type": "code",
      "source": [
        "len(renko.renko_bars)"
      ],
      "metadata": {
        "colab": {
          "base_uri": "https://localhost:8080/"
        },
        "id": "V4Jf0f0XW-lx",
        "outputId": "83859ce7-7b60-49ae-f031-a0b405c7ce4d"
      },
      "execution_count": null,
      "outputs": [
        {
          "output_type": "execute_result",
          "data": {
            "text/plain": [
              "4"
            ]
          },
          "metadata": {},
          "execution_count": 19
        }
      ]
    },
    {
      "cell_type": "markdown",
      "source": [
        "# Test RenkoFlex"
      ],
      "metadata": {
        "id": "rPhcWyyxyG1N"
      }
    },
    {
      "cell_type": "code",
      "source": [
        "START = '1993-01-01'\n",
        "END = '2022-01-01'\n",
        "data = get_asset(\"SPY\", START, END)\n",
        "data.head(4)"
      ],
      "metadata": {
        "colab": {
          "base_uri": "https://localhost:8080/",
          "height": 223
        },
        "id": "g7bTqCbDyuuX",
        "outputId": "5cd90c49-de00-4bff-c058-9b6e3669a811"
      },
      "execution_count": null,
      "outputs": [
        {
          "output_type": "stream",
          "name": "stdout",
          "text": [
            "Index(['Open', 'High', 'Low', 'Close', 'Adj Close', 'Volume'], dtype='object')\n"
          ]
        },
        {
          "output_type": "execute_result",
          "data": {
            "text/plain": [
              "               price   volume\n",
              "Date                         \n",
              "1993-01-29  43.93750  1003200\n",
              "1993-02-01  44.25000   480500\n",
              "1993-02-02  44.34375   201300\n",
              "1993-02-03  44.81250   529400"
            ],
            "text/html": [
              "\n",
              "  <div id=\"df-8335b490-067f-42b1-92f8-e845816afd5b\">\n",
              "    <div class=\"colab-df-container\">\n",
              "      <div>\n",
              "<style scoped>\n",
              "    .dataframe tbody tr th:only-of-type {\n",
              "        vertical-align: middle;\n",
              "    }\n",
              "\n",
              "    .dataframe tbody tr th {\n",
              "        vertical-align: top;\n",
              "    }\n",
              "\n",
              "    .dataframe thead th {\n",
              "        text-align: right;\n",
              "    }\n",
              "</style>\n",
              "<table border=\"1\" class=\"dataframe\">\n",
              "  <thead>\n",
              "    <tr style=\"text-align: right;\">\n",
              "      <th></th>\n",
              "      <th>price</th>\n",
              "      <th>volume</th>\n",
              "    </tr>\n",
              "    <tr>\n",
              "      <th>Date</th>\n",
              "      <th></th>\n",
              "      <th></th>\n",
              "    </tr>\n",
              "  </thead>\n",
              "  <tbody>\n",
              "    <tr>\n",
              "      <th>1993-01-29</th>\n",
              "      <td>43.93750</td>\n",
              "      <td>1003200</td>\n",
              "    </tr>\n",
              "    <tr>\n",
              "      <th>1993-02-01</th>\n",
              "      <td>44.25000</td>\n",
              "      <td>480500</td>\n",
              "    </tr>\n",
              "    <tr>\n",
              "      <th>1993-02-02</th>\n",
              "      <td>44.34375</td>\n",
              "      <td>201300</td>\n",
              "    </tr>\n",
              "    <tr>\n",
              "      <th>1993-02-03</th>\n",
              "      <td>44.81250</td>\n",
              "      <td>529400</td>\n",
              "    </tr>\n",
              "  </tbody>\n",
              "</table>\n",
              "</div>\n",
              "      <button class=\"colab-df-convert\" onclick=\"convertToInteractive('df-8335b490-067f-42b1-92f8-e845816afd5b')\"\n",
              "              title=\"Convert this dataframe to an interactive table.\"\n",
              "              style=\"display:none;\">\n",
              "        \n",
              "  <svg xmlns=\"http://www.w3.org/2000/svg\" height=\"24px\"viewBox=\"0 0 24 24\"\n",
              "       width=\"24px\">\n",
              "    <path d=\"M0 0h24v24H0V0z\" fill=\"none\"/>\n",
              "    <path d=\"M18.56 5.44l.94 2.06.94-2.06 2.06-.94-2.06-.94-.94-2.06-.94 2.06-2.06.94zm-11 1L8.5 8.5l.94-2.06 2.06-.94-2.06-.94L8.5 2.5l-.94 2.06-2.06.94zm10 10l.94 2.06.94-2.06 2.06-.94-2.06-.94-.94-2.06-.94 2.06-2.06.94z\"/><path d=\"M17.41 7.96l-1.37-1.37c-.4-.4-.92-.59-1.43-.59-.52 0-1.04.2-1.43.59L10.3 9.45l-7.72 7.72c-.78.78-.78 2.05 0 2.83L4 21.41c.39.39.9.59 1.41.59.51 0 1.02-.2 1.41-.59l7.78-7.78 2.81-2.81c.8-.78.8-2.07 0-2.86zM5.41 20L4 18.59l7.72-7.72 1.47 1.35L5.41 20z\"/>\n",
              "  </svg>\n",
              "      </button>\n",
              "      \n",
              "  <style>\n",
              "    .colab-df-container {\n",
              "      display:flex;\n",
              "      flex-wrap:wrap;\n",
              "      gap: 12px;\n",
              "    }\n",
              "\n",
              "    .colab-df-convert {\n",
              "      background-color: #E8F0FE;\n",
              "      border: none;\n",
              "      border-radius: 50%;\n",
              "      cursor: pointer;\n",
              "      display: none;\n",
              "      fill: #1967D2;\n",
              "      height: 32px;\n",
              "      padding: 0 0 0 0;\n",
              "      width: 32px;\n",
              "    }\n",
              "\n",
              "    .colab-df-convert:hover {\n",
              "      background-color: #E2EBFA;\n",
              "      box-shadow: 0px 1px 2px rgba(60, 64, 67, 0.3), 0px 1px 3px 1px rgba(60, 64, 67, 0.15);\n",
              "      fill: #174EA6;\n",
              "    }\n",
              "\n",
              "    [theme=dark] .colab-df-convert {\n",
              "      background-color: #3B4455;\n",
              "      fill: #D2E3FC;\n",
              "    }\n",
              "\n",
              "    [theme=dark] .colab-df-convert:hover {\n",
              "      background-color: #434B5C;\n",
              "      box-shadow: 0px 1px 3px 1px rgba(0, 0, 0, 0.15);\n",
              "      filter: drop-shadow(0px 1px 2px rgba(0, 0, 0, 0.3));\n",
              "      fill: #FFFFFF;\n",
              "    }\n",
              "  </style>\n",
              "\n",
              "      <script>\n",
              "        const buttonEl =\n",
              "          document.querySelector('#df-8335b490-067f-42b1-92f8-e845816afd5b button.colab-df-convert');\n",
              "        buttonEl.style.display =\n",
              "          google.colab.kernel.accessAllowed ? 'block' : 'none';\n",
              "\n",
              "        async function convertToInteractive(key) {\n",
              "          const element = document.querySelector('#df-8335b490-067f-42b1-92f8-e845816afd5b');\n",
              "          const dataTable =\n",
              "            await google.colab.kernel.invokeFunction('convertToInteractive',\n",
              "                                                     [key], {});\n",
              "          if (!dataTable) return;\n",
              "\n",
              "          const docLinkHtml = 'Like what you see? Visit the ' +\n",
              "            '<a target=\"_blank\" href=https://colab.research.google.com/notebooks/data_table.ipynb>data table notebook</a>'\n",
              "            + ' to learn more about interactive tables.';\n",
              "          element.innerHTML = '';\n",
              "          dataTable['output_type'] = 'display_data';\n",
              "          await google.colab.output.renderOutput(dataTable, element);\n",
              "          const docLink = document.createElement('div');\n",
              "          docLink.innerHTML = docLinkHtml;\n",
              "          element.appendChild(docLink);\n",
              "        }\n",
              "      </script>\n",
              "    </div>\n",
              "  </div>\n",
              "  "
            ]
          },
          "metadata": {},
          "execution_count": 88
        }
      ]
    },
    {
      "cell_type": "code",
      "source": [
        "# Flex Renko\n",
        "flex_renko = RenkoFlex()\n",
        "flex_params = {'bar_size': 0.1, 'trend_offset': 0.01, 'reversal_offset': 0.01}\n",
        "flex_renko.set_params(**flex_params)\n",
        "renko_bars = flex_renko.build_history(data)\n",
        "print(flex_renko.renko_bars)\n",
        "print(flex_renko.renko_prices[:10])\n",
        "print(flex_renko.renko_index)\n",
        "flex_renko.plot_renko('v', wicks_plot=True)"
      ],
      "metadata": {
        "colab": {
          "base_uri": "https://localhost:8080/",
          "height": 1000
        },
        "id": "xVhR_9KXFZ09",
        "outputId": "908d5553-a28d-479c-8316-b9f157001270"
      },
      "execution_count": null,
      "outputs": [
        {
          "output_type": "stream",
          "name": "stdout",
          "text": [
            "                  open       close        volume\n",
            "1995-02-10   43.937500   48.331250  1.579778e+08\n",
            "1995-05-11   47.847938   52.681063  1.494600e+07\n",
            "1995-09-08   52.154252   57.422358  2.472430e+07\n",
            "1995-12-13   56.848135   62.590370  2.713600e+07\n",
            "1996-09-13   61.964467   68.223504  1.536384e+08\n",
            "1996-11-19   67.541269   74.363619  3.792510e+07\n",
            "1997-02-13   73.619983   81.056345  1.033737e+08\n",
            "1997-06-12   80.245781   88.351416  1.628969e+08\n",
            "1997-10-03   87.467902   96.303043  2.872419e+08\n",
            "1998-02-26   95.340013  104.970317  4.679884e+08\n",
            "1998-07-01  103.920614  114.417646  4.711371e+08\n",
            "1999-01-06  113.273469  124.715234  1.256472e+09\n",
            "1999-04-12  123.468081  135.939605  4.726086e+08\n",
            "2000-03-21  134.580209  148.174169  1.845696e+09\n",
            "2001-03-12  135.926011  122.467990  1.848042e+09\n",
            "2001-03-22  123.692670  111.445871  1.744374e+08\n",
            "2001-09-20  112.560330  101.415742  1.455380e+09\n",
            "2002-07-10  102.429900   92.288326  4.108887e+09\n",
            "2002-07-22   93.211209   83.982376  4.663386e+08\n",
            "2003-06-16   92.279097  101.600218  1.057577e+10\n",
            "2003-12-29  100.584215  110.744237  4.972769e+09\n",
            "2004-12-14  109.636795  120.711219  1.041327e+10\n",
            "2006-05-05  119.504106  131.575228  2.115190e+10\n",
            "2007-01-24  130.259476  143.416999  1.323079e+10\n",
            "2007-10-09  141.982829  156.324529  2.649302e+10\n",
            "2008-03-10  143.402657  129.204374  2.367016e+10\n",
            "2008-09-17  130.496418  117.575981  3.301740e+10\n",
            "2008-10-06  118.751740  106.994142  5.338901e+09\n",
            "2008-10-09  108.064084   97.364670  1.799912e+09\n",
            "2008-10-10   98.338316   88.601849  8.710263e+08\n",
            "2008-11-20   89.487868   80.627683  1.401870e+10\n",
            "2009-03-02   81.433960   73.371191  2.367791e+10\n",
            "2009-05-04   80.619620   88.763016  1.493374e+10\n",
            "2009-07-23   87.875386   96.751687  1.289592e+10\n",
            "2009-09-15   95.784171  105.459339  6.813371e+09\n",
            "2010-01-19  104.404746  114.950680  1.434869e+10\n",
            "2010-12-21  113.801173  125.296241  5.085140e+10\n",
            "2012-02-23  124.043279  136.572903  6.069151e+10\n",
            "2013-01-22  135.207174  148.864464  3.234432e+10\n",
            "2013-05-07  147.375819  162.262266  9.219902e+09\n",
            "2013-10-29  160.639643  176.865870  1.524692e+10\n",
            "2014-06-02  175.097211  192.783798  1.610810e+10\n",
            "2015-02-20  190.855960  210.134340  2.068421e+10\n",
            "2017-01-25  208.032996  229.046430  5.406551e+10\n",
            "2017-09-12  226.755966  249.660609  1.125122e+10\n",
            "2018-01-05  247.164003  272.130064  5.567309e+09\n",
            "2019-07-03  269.408763  296.621770  3.372223e+10\n",
            "2020-01-02  293.655552  323.317729  8.035027e+09\n",
            "2020-03-12  296.592107  267.226552  5.806956e+09\n",
            "2020-03-16  269.898818  243.176163  6.268061e+08\n",
            "2020-05-18  267.199830  294.189711  6.938528e+09\n",
            "2020-06-08  291.247814  320.666785  1.249121e+09\n",
            "2020-08-28  317.460118  349.526796  4.320730e+09\n",
            "2021-01-08  346.031528  380.984208  6.814692e+09\n",
            "2021-04-15  377.174366  415.272786  5.350047e+09\n",
            "2021-09-02  411.120059  452.647337  6.395485e+09\n",
            "[(43.9375, 43.9375), (43.9375, 48.331250000000004), (47.8479375, 52.68106250000001), (52.15425187500001, 57.42235812500002), (56.848134543750014, 62.59037035625002), (61.96446665268752, 68.22350368831253), (67.5412686514294, 74.36361902026067), (73.61998283005806, 81.05634473208414), (80.2457812847633, 88.35141575797172), (87.46790160039201, 96.30304317618918)]\n",
            "[Timestamp('1993-01-29 00:00:00'), Timestamp('1995-02-10 00:00:00'), Timestamp('1995-05-11 00:00:00'), Timestamp('1995-09-08 00:00:00'), Timestamp('1995-12-13 00:00:00'), Timestamp('1996-09-13 00:00:00'), Timestamp('1996-11-19 00:00:00'), Timestamp('1997-02-13 00:00:00'), Timestamp('1997-06-12 00:00:00'), Timestamp('1997-10-03 00:00:00'), Timestamp('1998-02-26 00:00:00'), Timestamp('1998-07-01 00:00:00'), Timestamp('1999-01-06 00:00:00'), Timestamp('1999-04-12 00:00:00'), Timestamp('2000-03-21 00:00:00'), Timestamp('2001-03-12 00:00:00'), Timestamp('2001-03-22 00:00:00'), Timestamp('2001-09-20 00:00:00'), Timestamp('2002-07-10 00:00:00'), Timestamp('2002-07-22 00:00:00'), Timestamp('2003-06-16 00:00:00'), Timestamp('2003-12-29 00:00:00'), Timestamp('2004-12-14 00:00:00'), Timestamp('2006-05-05 00:00:00'), Timestamp('2007-01-24 00:00:00'), Timestamp('2007-10-09 00:00:00'), Timestamp('2008-03-10 00:00:00'), Timestamp('2008-09-17 00:00:00'), Timestamp('2008-10-06 00:00:00'), Timestamp('2008-10-09 00:00:00'), Timestamp('2008-10-10 00:00:00'), Timestamp('2008-11-20 00:00:00'), Timestamp('2009-03-02 00:00:00'), Timestamp('2009-05-04 00:00:00'), Timestamp('2009-07-23 00:00:00'), Timestamp('2009-09-15 00:00:00'), Timestamp('2010-01-19 00:00:00'), Timestamp('2010-12-21 00:00:00'), Timestamp('2012-02-23 00:00:00'), Timestamp('2013-01-22 00:00:00'), Timestamp('2013-05-07 00:00:00'), Timestamp('2013-10-29 00:00:00'), Timestamp('2014-06-02 00:00:00'), Timestamp('2015-02-20 00:00:00'), Timestamp('2017-01-25 00:00:00'), Timestamp('2017-09-12 00:00:00'), Timestamp('2018-01-05 00:00:00'), Timestamp('2019-07-03 00:00:00'), Timestamp('2020-01-02 00:00:00'), Timestamp('2020-03-12 00:00:00'), Timestamp('2020-03-16 00:00:00'), Timestamp('2020-05-18 00:00:00'), Timestamp('2020-06-08 00:00:00'), Timestamp('2020-08-28 00:00:00'), Timestamp('2021-01-08 00:00:00'), Timestamp('2021-04-15 00:00:00'), Timestamp('2021-09-02 00:00:00')]\n"
          ]
        },
        {
          "output_type": "display_data",
          "data": {
            "text/plain": [
              "<Figure size 1296x432 with 1 Axes>"
            ],
            "image/png": "[encoded data removed]"
          },
          "metadata": {
            "needs_background": "light"
          }
        }
      ]
    },
    {
      "cell_type": "markdown",
      "source": [
        "# Paired plot"
      ],
      "metadata": {
        "id": "T7itIUBfFnvN"
      }
    },
    {
      "cell_type": "code",
      "source": [
        "flex_renko.paired_plot_renko('', figsize=(12,7))"
      ],
      "metadata": {
        "colab": {
          "base_uri": "https://localhost:8080/",
          "height": 513
        },
        "id": "Gm_WJHvTFoHc",
        "outputId": "f8514d8e-3d87-4fd8-d57e-c2b95723acdb"
      },
      "execution_count": null,
      "outputs": [
        {
          "output_type": "display_data",
          "data": {
            "text/plain": [
              "<Figure size 864x504 with 2 Axes>"
            ],
            "image/png": "[encoded data removed]"
          },
          "metadata": {
            "needs_background": "light"
          }
        }
      ]
    },
    {
      "cell_type": "markdown",
      "source": [
        "## Add_data"
      ],
      "metadata": {
        "id": "HgK9_f2CFxH0"
      }
    },
    {
      "cell_type": "markdown",
      "source": [
        "# 1 day - 1 point"
      ],
      "metadata": {
        "id": "Q1Ew_xN6Fxr8"
      }
    },
    {
      "cell_type": "code",
      "source": [
        "# 1 day\n",
        "START = '2022-01-01'\n",
        "END = '2022-01-04'\n",
        "add_data = get_asset(\"SPY\", START, END)\n",
        "add_data.head(4)"
      ],
      "metadata": {
        "colab": {
          "base_uri": "https://localhost:8080/",
          "height": 129
        },
        "id": "8R7pxAc1Fkec",
        "outputId": "00db863a-4b2f-4b35-be6f-06966044c2d6"
      },
      "execution_count": null,
      "outputs": [
        {
          "output_type": "stream",
          "name": "stdout",
          "text": [
            "Index(['Open', 'High', 'Low', 'Close', 'Adj Close', 'Volume'], dtype='object')\n"
          ]
        },
        {
          "output_type": "execute_result",
          "data": {
            "text/plain": [
              "                 price    volume\n",
              "Date                            \n",
              "2022-01-03  477.709991  72668200"
            ],
            "text/html": [
              "\n",
              "  <div id=\"df-64f89aac-baec-4057-b689-dcff513f6cdf\">\n",
              "    <div class=\"colab-df-container\">\n",
              "      <div>\n",
              "<style scoped>\n",
              "    .dataframe tbody tr th:only-of-type {\n",
              "        vertical-align: middle;\n",
              "    }\n",
              "\n",
              "    .dataframe tbody tr th {\n",
              "        vertical-align: top;\n",
              "    }\n",
              "\n",
              "    .dataframe thead th {\n",
              "        text-align: right;\n",
              "    }\n",
              "</style>\n",
              "<table border=\"1\" class=\"dataframe\">\n",
              "  <thead>\n",
              "    <tr style=\"text-align: right;\">\n",
              "      <th></th>\n",
              "      <th>price</th>\n",
              "      <th>volume</th>\n",
              "    </tr>\n",
              "    <tr>\n",
              "      <th>Date</th>\n",
              "      <th></th>\n",
              "      <th></th>\n",
              "    </tr>\n",
              "  </thead>\n",
              "  <tbody>\n",
              "    <tr>\n",
              "      <th>2022-01-03</th>\n",
              "      <td>477.709991</td>\n",
              "      <td>72668200</td>\n",
              "    </tr>\n",
              "  </tbody>\n",
              "</table>\n",
              "</div>\n",
              "      <button class=\"colab-df-convert\" onclick=\"convertToInteractive('df-64f89aac-baec-4057-b689-dcff513f6cdf')\"\n",
              "              title=\"Convert this dataframe to an interactive table.\"\n",
              "              style=\"display:none;\">\n",
              "        \n",
              "  <svg xmlns=\"http://www.w3.org/2000/svg\" height=\"24px\"viewBox=\"0 0 24 24\"\n",
              "       width=\"24px\">\n",
              "    <path d=\"M0 0h24v24H0V0z\" fill=\"none\"/>\n",
              "    <path d=\"M18.56 5.44l.94 2.06.94-2.06 2.06-.94-2.06-.94-.94-2.06-.94 2.06-2.06.94zm-11 1L8.5 8.5l.94-2.06 2.06-.94-2.06-.94L8.5 2.5l-.94 2.06-2.06.94zm10 10l.94 2.06.94-2.06 2.06-.94-2.06-.94-.94-2.06-.94 2.06-2.06.94z\"/><path d=\"M17.41 7.96l-1.37-1.37c-.4-.4-.92-.59-1.43-.59-.52 0-1.04.2-1.43.59L10.3 9.45l-7.72 7.72c-.78.78-.78 2.05 0 2.83L4 21.41c.39.39.9.59 1.41.59.51 0 1.02-.2 1.41-.59l7.78-7.78 2.81-2.81c.8-.78.8-2.07 0-2.86zM5.41 20L4 18.59l7.72-7.72 1.47 1.35L5.41 20z\"/>\n",
              "  </svg>\n",
              "      </button>\n",
              "      \n",
              "  <style>\n",
              "    .colab-df-container {\n",
              "      display:flex;\n",
              "      flex-wrap:wrap;\n",
              "      gap: 12px;\n",
              "    }\n",
              "\n",
              "    .colab-df-convert {\n",
              "      background-color: #E8F0FE;\n",
              "      border: none;\n",
              "      border-radius: 50%;\n",
              "      cursor: pointer;\n",
              "      display: none;\n",
              "      fill: #1967D2;\n",
              "      height: 32px;\n",
              "      padding: 0 0 0 0;\n",
              "      width: 32px;\n",
              "    }\n",
              "\n",
              "    .colab-df-convert:hover {\n",
              "      background-color: #E2EBFA;\n",
              "      box-shadow: 0px 1px 2px rgba(60, 64, 67, 0.3), 0px 1px 3px 1px rgba(60, 64, 67, 0.15);\n",
              "      fill: #174EA6;\n",
              "    }\n",
              "\n",
              "    [theme=dark] .colab-df-convert {\n",
              "      background-color: #3B4455;\n",
              "      fill: #D2E3FC;\n",
              "    }\n",
              "\n",
              "    [theme=dark] .colab-df-convert:hover {\n",
              "      background-color: #434B5C;\n",
              "      box-shadow: 0px 1px 3px 1px rgba(0, 0, 0, 0.15);\n",
              "      filter: drop-shadow(0px 1px 2px rgba(0, 0, 0, 0.3));\n",
              "      fill: #FFFFFF;\n",
              "    }\n",
              "  </style>\n",
              "\n",
              "      <script>\n",
              "        const buttonEl =\n",
              "          document.querySelector('#df-64f89aac-baec-4057-b689-dcff513f6cdf button.colab-df-convert');\n",
              "        buttonEl.style.display =\n",
              "          google.colab.kernel.accessAllowed ? 'block' : 'none';\n",
              "\n",
              "        async function convertToInteractive(key) {\n",
              "          const element = document.querySelector('#df-64f89aac-baec-4057-b689-dcff513f6cdf');\n",
              "          const dataTable =\n",
              "            await google.colab.kernel.invokeFunction('convertToInteractive',\n",
              "                                                     [key], {});\n",
              "          if (!dataTable) return;\n",
              "\n",
              "          const docLinkHtml = 'Like what you see? Visit the ' +\n",
              "            '<a target=\"_blank\" href=https://colab.research.google.com/notebooks/data_table.ipynb>data table notebook</a>'\n",
              "            + ' to learn more about interactive tables.';\n",
              "          element.innerHTML = '';\n",
              "          dataTable['output_type'] = 'display_data';\n",
              "          await google.colab.output.renderOutput(dataTable, element);\n",
              "          const docLink = document.createElement('div');\n",
              "          docLink.innerHTML = docLinkHtml;\n",
              "          element.appendChild(docLink);\n",
              "        }\n",
              "      </script>\n",
              "    </div>\n",
              "  </div>\n",
              "  "
            ]
          },
          "metadata": {},
          "execution_count": 90
        }
      ]
    },
    {
      "cell_type": "code",
      "source": [
        "flex_renko.add_history(add_data)\n",
        "\n",
        "print(flex_renko.source_data.tail())\n",
        "print(flex_renko.renko_bars)\n"
      ],
      "metadata": {
        "colab": {
          "base_uri": "https://localhost:8080/"
        },
        "id": "JMvqmJRTF6p8",
        "outputId": "4647d2ab-f24a-451c-d8c8-75c7f84039e6"
      },
      "execution_count": null,
      "outputs": [
        {
          "output_type": "stream",
          "name": "stdout",
          "text": [
            "                 price    volume\n",
            "Date                            \n",
            "2021-12-28  476.869995  47274600\n",
            "2021-12-29  477.480011  54503000\n",
            "2021-12-30  476.160004  55329000\n",
            "2021-12-31  474.959991  65237400\n",
            "2022-01-03  477.709991  72668200\n",
            "                  open       close        volume\n",
            "1994-01-10   43.937500   47.452500  5.416590e+07\n",
            "1995-02-14   44.605350   48.401550  1.040618e+08\n",
            "1995-03-14   45.497457   49.369581  4.803000e+06\n",
            "1995-03-27   46.407406   50.356973  1.146400e+06\n",
            "1995-04-24   47.335554   51.364112  4.472300e+06\n",
            "...                ...         ...           ...\n",
            "2021-07-12  402.712298  436.985685  4.166810e+08\n",
            "2021-08-13  410.766544  445.725399  1.408428e+09\n",
            "2021-10-25  418.981875  454.639907  3.801668e+09\n",
            "2021-11-03  427.361512  463.732705  3.999652e+08\n",
            "2021-12-27  435.908743  473.007359  2.890590e+09\n",
            "\n",
            "[385 rows x 3 columns]\n"
          ]
        }
      ]
    },
    {
      "cell_type": "markdown",
      "source": [
        "# more than 1 point"
      ],
      "metadata": {
        "id": "R5hScZwBF-2M"
      }
    },
    {
      "cell_type": "code",
      "source": [
        "# 2 month\n",
        "START = '2022-01-04'\n",
        "END = '2022-06-01'\n",
        "add_data = get_asset(\"SPY\", START, END)\n",
        "add_data.head(4)"
      ],
      "metadata": {
        "colab": {
          "base_uri": "https://localhost:8080/",
          "height": 223
        },
        "id": "eF5jhhdxF_hd",
        "outputId": "f3e9c805-6048-40c4-82f8-c142eb4ab051"
      },
      "execution_count": null,
      "outputs": [
        {
          "output_type": "stream",
          "name": "stdout",
          "text": [
            "Index(['Open', 'High', 'Low', 'Close', 'Adj Close', 'Volume'], dtype='object')\n"
          ]
        },
        {
          "output_type": "execute_result",
          "data": {
            "text/plain": [
              "                 price     volume\n",
              "Date                             \n",
              "2022-01-04  477.549988   71178700\n",
              "2022-01-05  468.380005  104538900\n",
              "2022-01-06  467.940002   86858900\n",
              "2022-01-07  466.089996   85111600"
            ],
            "text/html": [
              "\n",
              "  <div id=\"df-33bca59d-f1a2-4935-8064-33c341b68d2b\">\n",
              "    <div class=\"colab-df-container\">\n",
              "      <div>\n",
              "<style scoped>\n",
              "    .dataframe tbody tr th:only-of-type {\n",
              "        vertical-align: middle;\n",
              "    }\n",
              "\n",
              "    .dataframe tbody tr th {\n",
              "        vertical-align: top;\n",
              "    }\n",
              "\n",
              "    .dataframe thead th {\n",
              "        text-align: right;\n",
              "    }\n",
              "</style>\n",
              "<table border=\"1\" class=\"dataframe\">\n",
              "  <thead>\n",
              "    <tr style=\"text-align: right;\">\n",
              "      <th></th>\n",
              "      <th>price</th>\n",
              "      <th>volume</th>\n",
              "    </tr>\n",
              "    <tr>\n",
              "      <th>Date</th>\n",
              "      <th></th>\n",
              "      <th></th>\n",
              "    </tr>\n",
              "  </thead>\n",
              "  <tbody>\n",
              "    <tr>\n",
              "      <th>2022-01-04</th>\n",
              "      <td>477.549988</td>\n",
              "      <td>71178700</td>\n",
              "    </tr>\n",
              "    <tr>\n",
              "      <th>2022-01-05</th>\n",
              "      <td>468.380005</td>\n",
              "      <td>104538900</td>\n",
              "    </tr>\n",
              "    <tr>\n",
              "      <th>2022-01-06</th>\n",
              "      <td>467.940002</td>\n",
              "      <td>86858900</td>\n",
              "    </tr>\n",
              "    <tr>\n",
              "      <th>2022-01-07</th>\n",
              "      <td>466.089996</td>\n",
              "      <td>85111600</td>\n",
              "    </tr>\n",
              "  </tbody>\n",
              "</table>\n",
              "</div>\n",
              "      <button class=\"colab-df-convert\" onclick=\"convertToInteractive('df-33bca59d-f1a2-4935-8064-33c341b68d2b')\"\n",
              "              title=\"Convert this dataframe to an interactive table.\"\n",
              "              style=\"display:none;\">\n",
              "        \n",
              "  <svg xmlns=\"http://www.w3.org/2000/svg\" height=\"24px\"viewBox=\"0 0 24 24\"\n",
              "       width=\"24px\">\n",
              "    <path d=\"M0 0h24v24H0V0z\" fill=\"none\"/>\n",
              "    <path d=\"M18.56 5.44l.94 2.06.94-2.06 2.06-.94-2.06-.94-.94-2.06-.94 2.06-2.06.94zm-11 1L8.5 8.5l.94-2.06 2.06-.94-2.06-.94L8.5 2.5l-.94 2.06-2.06.94zm10 10l.94 2.06.94-2.06 2.06-.94-2.06-.94-.94-2.06-.94 2.06-2.06.94z\"/><path d=\"M17.41 7.96l-1.37-1.37c-.4-.4-.92-.59-1.43-.59-.52 0-1.04.2-1.43.59L10.3 9.45l-7.72 7.72c-.78.78-.78 2.05 0 2.83L4 21.41c.39.39.9.59 1.41.59.51 0 1.02-.2 1.41-.59l7.78-7.78 2.81-2.81c.8-.78.8-2.07 0-2.86zM5.41 20L4 18.59l7.72-7.72 1.47 1.35L5.41 20z\"/>\n",
              "  </svg>\n",
              "      </button>\n",
              "      \n",
              "  <style>\n",
              "    .colab-df-container {\n",
              "      display:flex;\n",
              "      flex-wrap:wrap;\n",
              "      gap: 12px;\n",
              "    }\n",
              "\n",
              "    .colab-df-convert {\n",
              "      background-color: #E8F0FE;\n",
              "      border: none;\n",
              "      border-radius: 50%;\n",
              "      cursor: pointer;\n",
              "      display: none;\n",
              "      fill: #1967D2;\n",
              "      height: 32px;\n",
              "      padding: 0 0 0 0;\n",
              "      width: 32px;\n",
              "    }\n",
              "\n",
              "    .colab-df-convert:hover {\n",
              "      background-color: #E2EBFA;\n",
              "      box-shadow: 0px 1px 2px rgba(60, 64, 67, 0.3), 0px 1px 3px 1px rgba(60, 64, 67, 0.15);\n",
              "      fill: #174EA6;\n",
              "    }\n",
              "\n",
              "    [theme=dark] .colab-df-convert {\n",
              "      background-color: #3B4455;\n",
              "      fill: #D2E3FC;\n",
              "    }\n",
              "\n",
              "    [theme=dark] .colab-df-convert:hover {\n",
              "      background-color: #434B5C;\n",
              "      box-shadow: 0px 1px 3px 1px rgba(0, 0, 0, 0.15);\n",
              "      filter: drop-shadow(0px 1px 2px rgba(0, 0, 0, 0.3));\n",
              "      fill: #FFFFFF;\n",
              "    }\n",
              "  </style>\n",
              "\n",
              "      <script>\n",
              "        const buttonEl =\n",
              "          document.querySelector('#df-33bca59d-f1a2-4935-8064-33c341b68d2b button.colab-df-convert');\n",
              "        buttonEl.style.display =\n",
              "          google.colab.kernel.accessAllowed ? 'block' : 'none';\n",
              "\n",
              "        async function convertToInteractive(key) {\n",
              "          const element = document.querySelector('#df-33bca59d-f1a2-4935-8064-33c341b68d2b');\n",
              "          const dataTable =\n",
              "            await google.colab.kernel.invokeFunction('convertToInteractive',\n",
              "                                                     [key], {});\n",
              "          if (!dataTable) return;\n",
              "\n",
              "          const docLinkHtml = 'Like what you see? Visit the ' +\n",
              "            '<a target=\"_blank\" href=https://colab.research.google.com/notebooks/data_table.ipynb>data table notebook</a>'\n",
              "            + ' to learn more about interactive tables.';\n",
              "          element.innerHTML = '';\n",
              "          dataTable['output_type'] = 'display_data';\n",
              "          await google.colab.output.renderOutput(dataTable, element);\n",
              "          const docLink = document.createElement('div');\n",
              "          docLink.innerHTML = docLinkHtml;\n",
              "          element.appendChild(docLink);\n",
              "        }\n",
              "      </script>\n",
              "    </div>\n",
              "  </div>\n",
              "  "
            ]
          },
          "metadata": {},
          "execution_count": 93
        }
      ]
    },
    {
      "cell_type": "code",
      "source": [
        "flex_renko.add_history(add_data)\n",
        "\n",
        "print(flex_renko.source_data.tail())\n",
        "print(flex_renko.renko_bars)\n",
        "flex_renko.plot_renko(' ')"
      ],
      "metadata": {
        "colab": {
          "base_uri": "https://localhost:8080/",
          "height": 769
        },
        "id": "fmj5qbP4GM18",
        "outputId": "603319e6-1ea6-4851-b291-5513a03467be"
      },
      "execution_count": null,
      "outputs": [
        {
          "output_type": "stream",
          "name": "stdout",
          "text": [
            "                 price    volume\n",
            "Date                            \n",
            "2022-05-23  396.920013  76414900\n",
            "2022-05-24  393.890015  91448800\n",
            "2022-05-25  397.369995  91472900\n",
            "2022-05-26  405.309998  81974900\n",
            "2022-05-27  410.790009   9922468\n",
            "                  open       close        volume\n",
            "1994-01-10   43.937500   47.452500  5.416590e+07\n",
            "1995-02-14   44.605350   48.401550  1.040618e+08\n",
            "1995-03-14   45.497457   49.369581  4.803000e+06\n",
            "1995-03-27   46.407406   50.356973  1.146400e+06\n",
            "1995-04-24   47.335554   51.364112  4.472300e+06\n",
            "...                ...         ...           ...\n",
            "2022-02-23  462.063267  427.190568  4.524124e+09\n",
            "2022-03-08  452.822002  418.646756  1.259024e+09\n",
            "2022-05-09  443.765562  410.273821  2.171249e+09\n",
            "2022-05-09  434.890251  402.068345  2.171249e+09\n",
            "2022-05-11  426.192446  394.026978  2.748582e+08\n",
            "\n",
            "[390 rows x 3 columns]\n"
          ]
        },
        {
          "output_type": "display_data",
          "data": {
            "text/plain": [
              "<Figure size 1296x432 with 1 Axes>"
            ],
            "image/png": "[encoded data removed]"
          },
          "metadata": {
            "needs_background": "light"
          }
        }
      ]
    }
  ]
}